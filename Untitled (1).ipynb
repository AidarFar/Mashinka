{
 "cells": [
  {
   "cell_type": "markdown",
   "id": "637903fd",
   "metadata": {},
   "source": [
    "# Работа с несбалансированными классами."
   ]
  },
  {
   "cell_type": "code",
   "execution_count": 1,
   "id": "ffa49d36",
   "metadata": {},
   "outputs": [],
   "source": [
    "import numpy as np\n",
    "import pandas as pd"
   ]
  },
  {
   "cell_type": "code",
   "execution_count": 2,
   "id": "be6ef0b7",
   "metadata": {},
   "outputs": [],
   "source": [
    "col_names = ['pregnant', 'glucose', 'bp', 'skin', 'insulin', 'bmi', 'pedigree', 'age', 'label']\n",
    "pima = pd.read_csv('diabetes.csv', skiprows=1, names=col_names)"
   ]
  },
  {
   "cell_type": "code",
   "execution_count": 4,
   "id": "ca27eba3",
   "metadata": {},
   "outputs": [
    {
     "data": {
      "text/html": [
       "<div>\n",
       "<style scoped>\n",
       "    .dataframe tbody tr th:only-of-type {\n",
       "        vertical-align: middle;\n",
       "    }\n",
       "\n",
       "    .dataframe tbody tr th {\n",
       "        vertical-align: top;\n",
       "    }\n",
       "\n",
       "    .dataframe thead th {\n",
       "        text-align: right;\n",
       "    }\n",
       "</style>\n",
       "<table border=\"1\" class=\"dataframe\">\n",
       "  <thead>\n",
       "    <tr style=\"text-align: right;\">\n",
       "      <th></th>\n",
       "      <th>pregnant</th>\n",
       "      <th>glucose</th>\n",
       "      <th>bp</th>\n",
       "      <th>skin</th>\n",
       "      <th>insulin</th>\n",
       "      <th>bmi</th>\n",
       "      <th>pedigree</th>\n",
       "      <th>age</th>\n",
       "      <th>label</th>\n",
       "    </tr>\n",
       "  </thead>\n",
       "  <tbody>\n",
       "    <tr>\n",
       "      <th>0</th>\n",
       "      <td>6</td>\n",
       "      <td>148</td>\n",
       "      <td>72</td>\n",
       "      <td>35</td>\n",
       "      <td>0</td>\n",
       "      <td>33.6</td>\n",
       "      <td>0.627</td>\n",
       "      <td>50</td>\n",
       "      <td>1</td>\n",
       "    </tr>\n",
       "    <tr>\n",
       "      <th>1</th>\n",
       "      <td>1</td>\n",
       "      <td>85</td>\n",
       "      <td>66</td>\n",
       "      <td>29</td>\n",
       "      <td>0</td>\n",
       "      <td>26.6</td>\n",
       "      <td>0.351</td>\n",
       "      <td>31</td>\n",
       "      <td>0</td>\n",
       "    </tr>\n",
       "    <tr>\n",
       "      <th>2</th>\n",
       "      <td>8</td>\n",
       "      <td>183</td>\n",
       "      <td>64</td>\n",
       "      <td>0</td>\n",
       "      <td>0</td>\n",
       "      <td>23.3</td>\n",
       "      <td>0.672</td>\n",
       "      <td>32</td>\n",
       "      <td>1</td>\n",
       "    </tr>\n",
       "    <tr>\n",
       "      <th>3</th>\n",
       "      <td>1</td>\n",
       "      <td>89</td>\n",
       "      <td>66</td>\n",
       "      <td>23</td>\n",
       "      <td>94</td>\n",
       "      <td>28.1</td>\n",
       "      <td>0.167</td>\n",
       "      <td>21</td>\n",
       "      <td>0</td>\n",
       "    </tr>\n",
       "    <tr>\n",
       "      <th>4</th>\n",
       "      <td>0</td>\n",
       "      <td>137</td>\n",
       "      <td>40</td>\n",
       "      <td>35</td>\n",
       "      <td>168</td>\n",
       "      <td>43.1</td>\n",
       "      <td>2.288</td>\n",
       "      <td>33</td>\n",
       "      <td>1</td>\n",
       "    </tr>\n",
       "  </tbody>\n",
       "</table>\n",
       "</div>"
      ],
      "text/plain": [
       "   pregnant  glucose  bp  skin  insulin   bmi  pedigree  age  label\n",
       "0         6      148  72    35        0  33.6     0.627   50      1\n",
       "1         1       85  66    29        0  26.6     0.351   31      0\n",
       "2         8      183  64     0        0  23.3     0.672   32      1\n",
       "3         1       89  66    23       94  28.1     0.167   21      0\n",
       "4         0      137  40    35      168  43.1     2.288   33      1"
      ]
     },
     "execution_count": 4,
     "metadata": {},
     "output_type": "execute_result"
    }
   ],
   "source": [
    "pima.head()"
   ]
  },
  {
   "cell_type": "code",
   "execution_count": 5,
   "id": "ce6e0a64",
   "metadata": {},
   "outputs": [
    {
     "data": {
      "text/plain": [
       "(768, 9)"
      ]
     },
     "execution_count": 5,
     "metadata": {},
     "output_type": "execute_result"
    }
   ],
   "source": [
    "pima.shape"
   ]
  },
  {
   "cell_type": "code",
   "execution_count": 7,
   "id": "d17383fa",
   "metadata": {},
   "outputs": [
    {
     "name": "stdout",
     "output_type": "stream",
     "text": [
      "<class 'pandas.core.frame.DataFrame'>\n",
      "RangeIndex: 768 entries, 0 to 767\n",
      "Data columns (total 9 columns):\n",
      " #   Column    Non-Null Count  Dtype  \n",
      "---  ------    --------------  -----  \n",
      " 0   pregnant  768 non-null    int64  \n",
      " 1   glucose   768 non-null    int64  \n",
      " 2   bp        768 non-null    int64  \n",
      " 3   skin      768 non-null    int64  \n",
      " 4   insulin   768 non-null    int64  \n",
      " 5   bmi       768 non-null    float64\n",
      " 6   pedigree  768 non-null    float64\n",
      " 7   age       768 non-null    int64  \n",
      " 8   label     768 non-null    int64  \n",
      "dtypes: float64(2), int64(7)\n",
      "memory usage: 54.1 KB\n"
     ]
    }
   ],
   "source": [
    "pima.info()"
   ]
  },
  {
   "cell_type": "code",
   "execution_count": 9,
   "id": "45b7e4c2",
   "metadata": {},
   "outputs": [
    {
     "data": {
      "text/plain": [
       "0"
      ]
     },
     "execution_count": 9,
     "metadata": {},
     "output_type": "execute_result"
    }
   ],
   "source": [
    "len(pima)-len(pima.drop_duplicates())"
   ]
  },
  {
   "cell_type": "code",
   "execution_count": 10,
   "id": "60907889",
   "metadata": {},
   "outputs": [],
   "source": [
    "X = pima.drop('label', axis=1)\n",
    "y = pima['label']"
   ]
  },
  {
   "cell_type": "code",
   "execution_count": 11,
   "id": "70a94718",
   "metadata": {},
   "outputs": [
    {
     "data": {
      "text/plain": [
       "0    500\n",
       "1    268\n",
       "Name: label, dtype: int64"
      ]
     },
     "execution_count": 11,
     "metadata": {},
     "output_type": "execute_result"
    }
   ],
   "source": [
    "y.value_counts()"
   ]
  },
  {
   "cell_type": "code",
   "execution_count": 19,
   "id": "46146a63",
   "metadata": {},
   "outputs": [],
   "source": [
    "from sklearn.model_selection import train_test_split\n",
    "X_train, X_test, y_train, y_test = train_test_split(X,y, test_size=0.2, random_state =25)"
   ]
  },
  {
   "cell_type": "code",
   "execution_count": 20,
   "id": "ac666bb3",
   "metadata": {},
   "outputs": [],
   "source": [
    "from sklearn.linear_model import LogisticRegression\n",
    "cls = LogisticRegression(solver='liblinear')\n",
    "cls.fit(X_train,y_train)\n",
    "y_pred = cls.predict(X_test)"
   ]
  },
  {
   "cell_type": "code",
   "execution_count": 21,
   "id": "2e8ba014",
   "metadata": {},
   "outputs": [
    {
     "data": {
      "text/plain": [
       "0.7597402597402597"
      ]
     },
     "execution_count": 21,
     "metadata": {},
     "output_type": "execute_result"
    }
   ],
   "source": [
    "from sklearn import metrics\n",
    "metrics.accuracy_score(y_test, y_pred)"
   ]
  },
  {
   "cell_type": "code",
   "execution_count": 22,
   "id": "8e8313ad",
   "metadata": {},
   "outputs": [
    {
     "data": {
      "text/plain": [
       "0.5747126436781609"
      ]
     },
     "execution_count": 22,
     "metadata": {},
     "output_type": "execute_result"
    }
   ],
   "source": [
    "metrics.f1_score(y_test, y_pred)"
   ]
  },
  {
   "cell_type": "code",
   "execution_count": 23,
   "id": "3e8b21ab",
   "metadata": {},
   "outputs": [
    {
     "data": {
      "text/plain": [
       "array([[92, 11],\n",
       "       [26, 25]], dtype=int64)"
      ]
     },
     "execution_count": 23,
     "metadata": {},
     "output_type": "execute_result"
    }
   ],
   "source": [
    "metrics.confusion_matrix(y_test, y_pred)"
   ]
  },
  {
   "cell_type": "markdown",
   "id": "bf0c4dee",
   "metadata": {},
   "source": [
    "## Способы борьбы с дисбалансом классов"
   ]
  },
  {
   "cell_type": "markdown",
   "id": "39f35bac",
   "metadata": {},
   "source": [
    "### 1) Лучший способ - собрать больше наблюдений"
   ]
  },
  {
   "cell_type": "markdown",
   "id": "bea41086",
   "metadata": {},
   "source": [
    "### 2) Понизить мажоритарный класс"
   ]
  },
  {
   "cell_type": "code",
   "execution_count": 25,
   "id": "d410f240",
   "metadata": {},
   "outputs": [],
   "source": [
    "class0_index=np.where(y==0)[0]\n",
    "class1_index=np.where(y==1)[0]"
   ]
  },
  {
   "cell_type": "code",
   "execution_count": 29,
   "id": "085fa3fb",
   "metadata": {},
   "outputs": [],
   "source": [
    "class0_index_downsampled = np.random.choice(class0_index, len(class1_index),replace=False)"
   ]
  },
  {
   "cell_type": "code",
   "execution_count": 30,
   "id": "d73a605e",
   "metadata": {},
   "outputs": [
    {
     "data": {
      "text/plain": [
       "268"
      ]
     },
     "execution_count": 30,
     "metadata": {},
     "output_type": "execute_result"
    }
   ],
   "source": [
    "len(class0_index_downsampled)"
   ]
  },
  {
   "cell_type": "code",
   "execution_count": 34,
   "id": "48872512",
   "metadata": {},
   "outputs": [],
   "source": [
    "y_new = pd.concat([y.iloc[class0_index_downsampled],y.iloc[class1_index]],axis=0)"
   ]
  },
  {
   "cell_type": "code",
   "execution_count": 35,
   "id": "ad73751c",
   "metadata": {},
   "outputs": [
    {
     "data": {
      "text/plain": [
       "0    268\n",
       "1    268\n",
       "Name: label, dtype: int64"
      ]
     },
     "execution_count": 35,
     "metadata": {},
     "output_type": "execute_result"
    }
   ],
   "source": [
    "y_new.value_counts()"
   ]
  },
  {
   "cell_type": "code",
   "execution_count": 36,
   "id": "0d37e5e2",
   "metadata": {},
   "outputs": [],
   "source": [
    "X_new = pd.concat([X.iloc[class0_index_downsampled],X.iloc[class1_index]],axis=0)"
   ]
  },
  {
   "cell_type": "code",
   "execution_count": 37,
   "id": "ccc394f9",
   "metadata": {},
   "outputs": [
    {
     "data": {
      "text/plain": [
       "(536, 8)"
      ]
     },
     "execution_count": 37,
     "metadata": {},
     "output_type": "execute_result"
    }
   ],
   "source": [
    "X_new.shape"
   ]
  },
  {
   "cell_type": "code",
   "execution_count": 38,
   "id": "f4dd156b",
   "metadata": {},
   "outputs": [],
   "source": [
    "from sklearn.model_selection import train_test_split\n",
    "X_train, X_test, y_train, y_test = train_test_split(X_new,y_new, test_size=0.2, random_state =25)"
   ]
  },
  {
   "cell_type": "code",
   "execution_count": 39,
   "id": "2ee2668c",
   "metadata": {},
   "outputs": [],
   "source": [
    "from sklearn.linear_model import LogisticRegression\n",
    "cls = LogisticRegression(solver='liblinear')\n",
    "cls.fit(X_train,y_train)\n",
    "y_pred = cls.predict(X_test)"
   ]
  },
  {
   "cell_type": "code",
   "execution_count": 40,
   "id": "e851ff90",
   "metadata": {},
   "outputs": [
    {
     "data": {
      "text/plain": [
       "0.6944444444444444"
      ]
     },
     "execution_count": 40,
     "metadata": {},
     "output_type": "execute_result"
    }
   ],
   "source": [
    "from sklearn import metrics\n",
    "metrics.accuracy_score(y_test, y_pred)"
   ]
  },
  {
   "cell_type": "code",
   "execution_count": 41,
   "id": "281e7bcf",
   "metadata": {},
   "outputs": [
    {
     "data": {
      "text/plain": [
       "0.6972477064220183"
      ]
     },
     "execution_count": 41,
     "metadata": {},
     "output_type": "execute_result"
    }
   ],
   "source": [
    "metrics.f1_score(y_test, y_pred)"
   ]
  },
  {
   "cell_type": "code",
   "execution_count": 42,
   "id": "89b7423c",
   "metadata": {},
   "outputs": [
    {
     "data": {
      "text/plain": [
       "array([[37, 11],\n",
       "       [22, 38]], dtype=int64)"
      ]
     },
     "execution_count": 42,
     "metadata": {},
     "output_type": "execute_result"
    }
   ],
   "source": [
    "metrics.confusion_matrix(y_test, y_pred)"
   ]
  },
  {
   "cell_type": "markdown",
   "id": "bafc6c0e",
   "metadata": {},
   "source": [
    "### 3) Повысить миноритарный класс"
   ]
  },
  {
   "cell_type": "code",
   "execution_count": 43,
   "id": "0ac1798f",
   "metadata": {},
   "outputs": [],
   "source": [
    "class1_index_upsampled = np.random.choice(class1_index, len(class0_index),replace=True)"
   ]
  },
  {
   "cell_type": "code",
   "execution_count": 44,
   "id": "0a0d8729",
   "metadata": {},
   "outputs": [
    {
     "data": {
      "text/plain": [
       "500"
      ]
     },
     "execution_count": 44,
     "metadata": {},
     "output_type": "execute_result"
    }
   ],
   "source": [
    "len(class1_index_upsampled)"
   ]
  },
  {
   "cell_type": "code",
   "execution_count": 45,
   "id": "69c826d7",
   "metadata": {},
   "outputs": [],
   "source": [
    "y_new = pd.concat([y.iloc[class1_index_upsampled],y.iloc[class0_index]],axis=0)"
   ]
  },
  {
   "cell_type": "code",
   "execution_count": 46,
   "id": "d2c8eef9",
   "metadata": {},
   "outputs": [
    {
     "data": {
      "text/plain": [
       "1    500\n",
       "0    500\n",
       "Name: label, dtype: int64"
      ]
     },
     "execution_count": 46,
     "metadata": {},
     "output_type": "execute_result"
    }
   ],
   "source": [
    "y_new.value_counts()"
   ]
  },
  {
   "cell_type": "code",
   "execution_count": 49,
   "id": "40ce229a",
   "metadata": {},
   "outputs": [],
   "source": [
    "X_new = pd.concat([X.iloc[class1_index_upsampled],X.iloc[class0_index]],axis=0)"
   ]
  },
  {
   "cell_type": "code",
   "execution_count": 50,
   "id": "ee49f6a4",
   "metadata": {},
   "outputs": [
    {
     "data": {
      "text/plain": [
       "(1000, 8)"
      ]
     },
     "execution_count": 50,
     "metadata": {},
     "output_type": "execute_result"
    }
   ],
   "source": [
    "X_new.shape"
   ]
  },
  {
   "cell_type": "code",
   "execution_count": 51,
   "id": "af290d60",
   "metadata": {},
   "outputs": [],
   "source": [
    "from sklearn.model_selection import train_test_split\n",
    "X_train, X_test, y_train, y_test = train_test_split(X_new,y_new, test_size=0.2, random_state =25)"
   ]
  },
  {
   "cell_type": "code",
   "execution_count": 52,
   "id": "d0488d6a",
   "metadata": {},
   "outputs": [],
   "source": [
    "from sklearn.linear_model import LogisticRegression\n",
    "cls = LogisticRegression(solver='liblinear')\n",
    "cls.fit(X_train,y_train)\n",
    "y_pred = cls.predict(X_test)"
   ]
  },
  {
   "cell_type": "code",
   "execution_count": 53,
   "id": "15cbc09b",
   "metadata": {},
   "outputs": [
    {
     "data": {
      "text/plain": [
       "0.76"
      ]
     },
     "execution_count": 53,
     "metadata": {},
     "output_type": "execute_result"
    }
   ],
   "source": [
    "from sklearn import metrics\n",
    "metrics.accuracy_score(y_test, y_pred)"
   ]
  },
  {
   "cell_type": "code",
   "execution_count": 54,
   "id": "bc60cfdd",
   "metadata": {},
   "outputs": [
    {
     "data": {
      "text/plain": [
       "0.7500000000000001"
      ]
     },
     "execution_count": 54,
     "metadata": {},
     "output_type": "execute_result"
    }
   ],
   "source": [
    "metrics.f1_score(y_test, y_pred)"
   ]
  },
  {
   "cell_type": "code",
   "execution_count": 55,
   "id": "df9a2979",
   "metadata": {},
   "outputs": [
    {
     "data": {
      "text/plain": [
       "array([[80, 18],\n",
       "       [30, 72]], dtype=int64)"
      ]
     },
     "execution_count": 55,
     "metadata": {},
     "output_type": "execute_result"
    }
   ],
   "source": [
    "metrics.confusion_matrix(y_test, y_pred)"
   ]
  },
  {
   "cell_type": "markdown",
   "id": "c37a713b",
   "metadata": {},
   "source": [
    "### 4) Использование параметра вхвешивания класса class_weight, включенных в реализацию некоторых моделей"
   ]
  },
  {
   "cell_type": "code",
   "execution_count": 56,
   "id": "82675b68",
   "metadata": {},
   "outputs": [],
   "source": [
    "from sklearn.model_selection import train_test_split\n",
    "X_train, X_test, y_train, y_test = train_test_split(X,y, test_size=0.2, random_state =25)"
   ]
  },
  {
   "cell_type": "code",
   "execution_count": 66,
   "id": "3097c70f",
   "metadata": {},
   "outputs": [],
   "source": [
    "from sklearn.linear_model import LogisticRegression\n",
    "cls = LogisticRegression(solver='liblinear',class_weight='balanced')\n",
    "# cls = LogisticRegression(solver='liblinear',class_weight={0:0.33,1:0.66})\n",
    "cls.fit(X_train,y_train)\n",
    "y_pred = cls.predict(X_test)"
   ]
  },
  {
   "cell_type": "code",
   "execution_count": 67,
   "id": "4b1875c0",
   "metadata": {},
   "outputs": [
    {
     "data": {
      "text/plain": [
       "0.7532467532467533"
      ]
     },
     "execution_count": 67,
     "metadata": {},
     "output_type": "execute_result"
    }
   ],
   "source": [
    "from sklearn import metrics\n",
    "metrics.accuracy_score(y_test, y_pred)"
   ]
  },
  {
   "cell_type": "code",
   "execution_count": 68,
   "id": "cc949989",
   "metadata": {},
   "outputs": [
    {
     "data": {
      "text/plain": [
       "0.6481481481481481"
      ]
     },
     "execution_count": 68,
     "metadata": {},
     "output_type": "execute_result"
    }
   ],
   "source": [
    "metrics.f1_score(y_test, y_pred)"
   ]
  },
  {
   "cell_type": "code",
   "execution_count": 69,
   "id": "51cd5882",
   "metadata": {},
   "outputs": [
    {
     "data": {
      "text/plain": [
       "array([[81, 22],\n",
       "       [16, 35]], dtype=int64)"
      ]
     },
     "execution_count": 69,
     "metadata": {},
     "output_type": "execute_result"
    }
   ],
   "source": [
    "metrics.confusion_matrix(y_test, y_pred)"
   ]
  },
  {
   "cell_type": "markdown",
   "id": "33401afd",
   "metadata": {},
   "source": [
    "### 0) дубликаты"
   ]
  },
  {
   "cell_type": "markdown",
   "id": "eea248fa",
   "metadata": {},
   "source": [
    "### 1) 3 способами убрать дизбаланс и какой лучший, RandomForestClassifier в 3 способе, тепловая карта в confusion matrix"
   ]
  },
  {
   "cell_type": "code",
   "execution_count": 71,
   "id": "bb237b2b",
   "metadata": {},
   "outputs": [
    {
     "data": {
      "text/html": [
       "<div>\n",
       "<style scoped>\n",
       "    .dataframe tbody tr th:only-of-type {\n",
       "        vertical-align: middle;\n",
       "    }\n",
       "\n",
       "    .dataframe tbody tr th {\n",
       "        vertical-align: top;\n",
       "    }\n",
       "\n",
       "    .dataframe thead th {\n",
       "        text-align: right;\n",
       "    }\n",
       "</style>\n",
       "<table border=\"1\" class=\"dataframe\">\n",
       "  <thead>\n",
       "    <tr style=\"text-align: right;\">\n",
       "      <th></th>\n",
       "      <th>age</th>\n",
       "      <th>sex</th>\n",
       "      <th>cp</th>\n",
       "      <th>trtbps</th>\n",
       "      <th>chol</th>\n",
       "      <th>fbs</th>\n",
       "      <th>restecg</th>\n",
       "      <th>thalachh</th>\n",
       "      <th>exng</th>\n",
       "      <th>oldpeak</th>\n",
       "      <th>slp</th>\n",
       "      <th>caa</th>\n",
       "      <th>thall</th>\n",
       "      <th>output</th>\n",
       "    </tr>\n",
       "  </thead>\n",
       "  <tbody>\n",
       "    <tr>\n",
       "      <th>0</th>\n",
       "      <td>63</td>\n",
       "      <td>1</td>\n",
       "      <td>3</td>\n",
       "      <td>145</td>\n",
       "      <td>233</td>\n",
       "      <td>1</td>\n",
       "      <td>0</td>\n",
       "      <td>150</td>\n",
       "      <td>0</td>\n",
       "      <td>2.3</td>\n",
       "      <td>0</td>\n",
       "      <td>0</td>\n",
       "      <td>1</td>\n",
       "      <td>1</td>\n",
       "    </tr>\n",
       "    <tr>\n",
       "      <th>1</th>\n",
       "      <td>37</td>\n",
       "      <td>1</td>\n",
       "      <td>2</td>\n",
       "      <td>130</td>\n",
       "      <td>250</td>\n",
       "      <td>0</td>\n",
       "      <td>1</td>\n",
       "      <td>187</td>\n",
       "      <td>0</td>\n",
       "      <td>3.5</td>\n",
       "      <td>0</td>\n",
       "      <td>0</td>\n",
       "      <td>2</td>\n",
       "      <td>1</td>\n",
       "    </tr>\n",
       "    <tr>\n",
       "      <th>2</th>\n",
       "      <td>41</td>\n",
       "      <td>0</td>\n",
       "      <td>1</td>\n",
       "      <td>130</td>\n",
       "      <td>204</td>\n",
       "      <td>0</td>\n",
       "      <td>0</td>\n",
       "      <td>172</td>\n",
       "      <td>0</td>\n",
       "      <td>1.4</td>\n",
       "      <td>2</td>\n",
       "      <td>0</td>\n",
       "      <td>2</td>\n",
       "      <td>1</td>\n",
       "    </tr>\n",
       "    <tr>\n",
       "      <th>3</th>\n",
       "      <td>56</td>\n",
       "      <td>1</td>\n",
       "      <td>1</td>\n",
       "      <td>120</td>\n",
       "      <td>236</td>\n",
       "      <td>0</td>\n",
       "      <td>1</td>\n",
       "      <td>178</td>\n",
       "      <td>0</td>\n",
       "      <td>0.8</td>\n",
       "      <td>2</td>\n",
       "      <td>0</td>\n",
       "      <td>2</td>\n",
       "      <td>1</td>\n",
       "    </tr>\n",
       "    <tr>\n",
       "      <th>4</th>\n",
       "      <td>57</td>\n",
       "      <td>0</td>\n",
       "      <td>0</td>\n",
       "      <td>120</td>\n",
       "      <td>354</td>\n",
       "      <td>0</td>\n",
       "      <td>1</td>\n",
       "      <td>163</td>\n",
       "      <td>1</td>\n",
       "      <td>0.6</td>\n",
       "      <td>2</td>\n",
       "      <td>0</td>\n",
       "      <td>2</td>\n",
       "      <td>1</td>\n",
       "    </tr>\n",
       "  </tbody>\n",
       "</table>\n",
       "</div>"
      ],
      "text/plain": [
       "   age  sex  cp  trtbps  chol  fbs  restecg  thalachh  exng  oldpeak  slp  \\\n",
       "0   63    1   3     145   233    1        0       150     0      2.3    0   \n",
       "1   37    1   2     130   250    0        1       187     0      3.5    0   \n",
       "2   41    0   1     130   204    0        0       172     0      1.4    2   \n",
       "3   56    1   1     120   236    0        1       178     0      0.8    2   \n",
       "4   57    0   0     120   354    0        1       163     1      0.6    2   \n",
       "\n",
       "   caa  thall  output  \n",
       "0    0      1       1  \n",
       "1    0      2       1  \n",
       "2    0      2       1  \n",
       "3    0      2       1  \n",
       "4    0      2       1  "
      ]
     },
     "execution_count": 71,
     "metadata": {},
     "output_type": "execute_result"
    }
   ],
   "source": [
    "pima = pd.read_csv('heart.csv')\n",
    "pima.head()"
   ]
  },
  {
   "cell_type": "code",
   "execution_count": 72,
   "id": "25962a20",
   "metadata": {},
   "outputs": [
    {
     "name": "stdout",
     "output_type": "stream",
     "text": [
      "<class 'pandas.core.frame.DataFrame'>\n",
      "RangeIndex: 303 entries, 0 to 302\n",
      "Data columns (total 14 columns):\n",
      " #   Column    Non-Null Count  Dtype  \n",
      "---  ------    --------------  -----  \n",
      " 0   age       303 non-null    int64  \n",
      " 1   sex       303 non-null    int64  \n",
      " 2   cp        303 non-null    int64  \n",
      " 3   trtbps    303 non-null    int64  \n",
      " 4   chol      303 non-null    int64  \n",
      " 5   fbs       303 non-null    int64  \n",
      " 6   restecg   303 non-null    int64  \n",
      " 7   thalachh  303 non-null    int64  \n",
      " 8   exng      303 non-null    int64  \n",
      " 9   oldpeak   303 non-null    float64\n",
      " 10  slp       303 non-null    int64  \n",
      " 11  caa       303 non-null    int64  \n",
      " 12  thall     303 non-null    int64  \n",
      " 13  output    303 non-null    int64  \n",
      "dtypes: float64(1), int64(13)\n",
      "memory usage: 33.3 KB\n"
     ]
    }
   ],
   "source": [
    "pima.info()"
   ]
  },
  {
   "cell_type": "code",
   "execution_count": 74,
   "id": "a940d129",
   "metadata": {},
   "outputs": [
    {
     "data": {
      "text/plain": [
       "(303, 14)"
      ]
     },
     "execution_count": 74,
     "metadata": {},
     "output_type": "execute_result"
    }
   ],
   "source": [
    "pima.shape"
   ]
  },
  {
   "cell_type": "code",
   "execution_count": 75,
   "id": "ff8f15f0",
   "metadata": {},
   "outputs": [
    {
     "data": {
      "text/plain": [
       "1"
      ]
     },
     "execution_count": 75,
     "metadata": {},
     "output_type": "execute_result"
    }
   ],
   "source": [
    "len(pima)-len(pima.drop_duplicates())"
   ]
  },
  {
   "cell_type": "code",
   "execution_count": 76,
   "id": "27099e63",
   "metadata": {},
   "outputs": [],
   "source": [
    "pima.drop_duplicates(inplace=True)"
   ]
  },
  {
   "cell_type": "code",
   "execution_count": 77,
   "id": "aa09b082",
   "metadata": {},
   "outputs": [
    {
     "data": {
      "text/plain": [
       "0"
      ]
     },
     "execution_count": 77,
     "metadata": {},
     "output_type": "execute_result"
    }
   ],
   "source": [
    "len(pima)-len(pima.drop_duplicates())"
   ]
  },
  {
   "cell_type": "code",
   "execution_count": 78,
   "id": "39a2032f",
   "metadata": {},
   "outputs": [],
   "source": [
    "X = pima.drop('output', axis=1)\n",
    "y = pima['output']"
   ]
  },
  {
   "cell_type": "code",
   "execution_count": 79,
   "id": "ea09428a",
   "metadata": {},
   "outputs": [
    {
     "data": {
      "text/plain": [
       "1    164\n",
       "0    138\n",
       "Name: output, dtype: int64"
      ]
     },
     "execution_count": 79,
     "metadata": {},
     "output_type": "execute_result"
    }
   ],
   "source": [
    "y.value_counts()"
   ]
  },
  {
   "cell_type": "code",
   "execution_count": 85,
   "id": "906e73f0",
   "metadata": {},
   "outputs": [],
   "source": [
    "from sklearn.model_selection import train_test_split\n",
    "X_train, X_test, y_train, y_test = train_test_split(X,y, test_size=0.2, random_state =25)"
   ]
  },
  {
   "cell_type": "code",
   "execution_count": 90,
   "id": "d210ce1e",
   "metadata": {},
   "outputs": [],
   "source": [
    "from sklearn.ensemble import RandomForestClassifier\n",
    "cls = RandomForestClassifier(max_depth=2)\n",
    "cls.fit(X_train,y_train)\n",
    "y_pred = cls.predict(X_test)"
   ]
  },
  {
   "cell_type": "code",
   "execution_count": 91,
   "id": "ee5b96ea",
   "metadata": {},
   "outputs": [
    {
     "data": {
      "text/plain": [
       "0.8032786885245902"
      ]
     },
     "execution_count": 91,
     "metadata": {},
     "output_type": "execute_result"
    }
   ],
   "source": [
    "from sklearn import metrics\n",
    "metrics.accuracy_score(y_test, y_pred)"
   ]
  },
  {
   "cell_type": "code",
   "execution_count": 92,
   "id": "6bab98d9",
   "metadata": {},
   "outputs": [
    {
     "data": {
      "text/plain": [
       "0.8333333333333334"
      ]
     },
     "execution_count": 92,
     "metadata": {},
     "output_type": "execute_result"
    }
   ],
   "source": [
    "metrics.f1_score(y_test, y_pred)"
   ]
  },
  {
   "cell_type": "code",
   "execution_count": 93,
   "id": "ebd07d23",
   "metadata": {},
   "outputs": [
    {
     "data": {
      "text/plain": [
       "array([[19,  7],\n",
       "       [ 5, 30]], dtype=int64)"
      ]
     },
     "execution_count": 93,
     "metadata": {},
     "output_type": "execute_result"
    }
   ],
   "source": [
    "metrics.confusion_matrix(y_test, y_pred)"
   ]
  },
  {
   "cell_type": "code",
   "execution_count": 98,
   "id": "c2e302e9",
   "metadata": {
    "scrolled": true
   },
   "outputs": [
    {
     "data": {
      "text/plain": [
       "<AxesSubplot:>"
      ]
     },
     "execution_count": 98,
     "metadata": {},
     "output_type": "execute_result"
    },
    {
     "data": {
      "image/png": "[encoded data removed]",
      "text/plain": [
       "<Figure size 640x480 with 2 Axes>"
      ]
     },
     "metadata": {},
     "output_type": "display_data"
    }
   ],
   "source": [
    "import seaborn as sns\n",
    "sns.heatmap(metrics.confusion_matrix(y_test, y_pred), annot=True,cmap=\"Blues\")"
   ]
  },
  {
   "cell_type": "markdown",
   "id": "5ff0bc68",
   "metadata": {},
   "source": [
    "### 2) Понизить мажоритарный"
   ]
  },
  {
   "cell_type": "code",
   "execution_count": 132,
   "id": "2f937ce6",
   "metadata": {},
   "outputs": [],
   "source": [
    "class0_index=np.where(y==0)[0]\n",
    "class1_index=np.where(y==1)[0]"
   ]
  },
  {
   "cell_type": "code",
   "execution_count": 133,
   "id": "5a8d526c",
   "metadata": {},
   "outputs": [],
   "source": [
    "class1_index_downsampled = np.random.choice(class1_index, len(class0_index),replace=False)"
   ]
  },
  {
   "cell_type": "code",
   "execution_count": 134,
   "id": "4c71333a",
   "metadata": {},
   "outputs": [
    {
     "data": {
      "text/plain": [
       "138"
      ]
     },
     "execution_count": 134,
     "metadata": {},
     "output_type": "execute_result"
    }
   ],
   "source": [
    "len(class1_index_downsampled)"
   ]
  },
  {
   "cell_type": "code",
   "execution_count": 135,
   "id": "6ec956a0",
   "metadata": {},
   "outputs": [],
   "source": [
    "y_new = pd.concat([y.iloc[class1_index_downsampled],y.iloc[class0_index]],axis=0)"
   ]
  },
  {
   "cell_type": "code",
   "execution_count": 136,
   "id": "d97c6c48",
   "metadata": {},
   "outputs": [
    {
     "data": {
      "text/plain": [
       "1    138\n",
       "0    138\n",
       "Name: output, dtype: int64"
      ]
     },
     "execution_count": 136,
     "metadata": {},
     "output_type": "execute_result"
    }
   ],
   "source": [
    "y_new.value_counts()"
   ]
  },
  {
   "cell_type": "code",
   "execution_count": 137,
   "id": "a9059dee",
   "metadata": {},
   "outputs": [],
   "source": [
    "X_new = pd.concat([X.iloc[class1_index_downsampled],X.iloc[class0_index]],axis=0)"
   ]
  },
  {
   "cell_type": "code",
   "execution_count": 138,
   "id": "dc99329e",
   "metadata": {},
   "outputs": [
    {
     "data": {
      "text/plain": [
       "(276, 13)"
      ]
     },
     "execution_count": 138,
     "metadata": {},
     "output_type": "execute_result"
    }
   ],
   "source": [
    "X_new.shape"
   ]
  },
  {
   "cell_type": "code",
   "execution_count": 139,
   "id": "a3498b3a",
   "metadata": {},
   "outputs": [],
   "source": [
    "from sklearn.model_selection import train_test_split\n",
    "X_train, X_test, y_train, y_test = train_test_split(X_new,y_new, test_size=0.2, random_state =25)"
   ]
  },
  {
   "cell_type": "code",
   "execution_count": 140,
   "id": "57559dd2",
   "metadata": {},
   "outputs": [],
   "source": [
    "from sklearn.ensemble import RandomForestClassifier\n",
    "cls = RandomForestClassifier(max_depth=2)\n",
    "cls.fit(X_train,y_train)\n",
    "y_pred = cls.predict(X_test)"
   ]
  },
  {
   "cell_type": "code",
   "execution_count": 141,
   "id": "d3096a65",
   "metadata": {},
   "outputs": [
    {
     "data": {
      "text/plain": [
       "0.8571428571428571"
      ]
     },
     "execution_count": 141,
     "metadata": {},
     "output_type": "execute_result"
    }
   ],
   "source": [
    "from sklearn import metrics\n",
    "metrics.accuracy_score(y_test, y_pred)"
   ]
  },
  {
   "cell_type": "code",
   "execution_count": 142,
   "id": "03a79776",
   "metadata": {},
   "outputs": [
    {
     "data": {
      "text/plain": [
       "0.8666666666666666"
      ]
     },
     "execution_count": 142,
     "metadata": {},
     "output_type": "execute_result"
    }
   ],
   "source": [
    "metrics.f1_score(y_test, y_pred)"
   ]
  },
  {
   "cell_type": "code",
   "execution_count": 143,
   "id": "5182e780",
   "metadata": {},
   "outputs": [
    {
     "data": {
      "text/plain": [
       "array([[22,  5],\n",
       "       [ 3, 26]], dtype=int64)"
      ]
     },
     "execution_count": 143,
     "metadata": {},
     "output_type": "execute_result"
    }
   ],
   "source": [
    "metrics.confusion_matrix(y_test, y_pred)"
   ]
  },
  {
   "cell_type": "code",
   "execution_count": 144,
   "id": "09d5dd2c",
   "metadata": {
    "scrolled": true
   },
   "outputs": [
    {
     "data": {
      "text/plain": [
       "<AxesSubplot:>"
      ]
     },
     "execution_count": 144,
     "metadata": {},
     "output_type": "execute_result"
    },
    {
     "data": {
      "image/png": "[encoded data removed]",
      "text/plain": [
       "<Figure size 640x480 with 2 Axes>"
      ]
     },
     "metadata": {},
     "output_type": "display_data"
    }
   ],
   "source": [
    "import seaborn as sns\n",
    "sns.heatmap(metrics.confusion_matrix(y_test, y_pred), annot=True,cmap=\"Blues\")"
   ]
  },
  {
   "cell_type": "markdown",
   "id": "7df25a54",
   "metadata": {},
   "source": [
    "### 3) Повысить миноритарный"
   ]
  },
  {
   "cell_type": "code",
   "execution_count": 145,
   "id": "77394da0",
   "metadata": {},
   "outputs": [],
   "source": [
    "class0_index_upsampled = np.random.choice(class0_index, len(class1_index),replace=True)"
   ]
  },
  {
   "cell_type": "code",
   "execution_count": 146,
   "id": "2804c42d",
   "metadata": {},
   "outputs": [
    {
     "data": {
      "text/plain": [
       "164"
      ]
     },
     "execution_count": 146,
     "metadata": {},
     "output_type": "execute_result"
    }
   ],
   "source": [
    "len(class0_index_upsampled)"
   ]
  },
  {
   "cell_type": "code",
   "execution_count": 147,
   "id": "22fcb48a",
   "metadata": {},
   "outputs": [],
   "source": [
    "y_new = pd.concat([y.iloc[class0_index_upsampled],y.iloc[class1_index]],axis=0)"
   ]
  },
  {
   "cell_type": "code",
   "execution_count": 148,
   "id": "e90d7a0a",
   "metadata": {},
   "outputs": [
    {
     "data": {
      "text/plain": [
       "0    164\n",
       "1    164\n",
       "Name: output, dtype: int64"
      ]
     },
     "execution_count": 148,
     "metadata": {},
     "output_type": "execute_result"
    }
   ],
   "source": [
    "y_new.value_counts()"
   ]
  },
  {
   "cell_type": "code",
   "execution_count": 149,
   "id": "49d43745",
   "metadata": {},
   "outputs": [],
   "source": [
    "X_new = pd.concat([X.iloc[class0_index_upsampled],X.iloc[class1_index]],axis=0)"
   ]
  },
  {
   "cell_type": "code",
   "execution_count": 150,
   "id": "2837e6a3",
   "metadata": {},
   "outputs": [
    {
     "data": {
      "text/plain": [
       "(328, 13)"
      ]
     },
     "execution_count": 150,
     "metadata": {},
     "output_type": "execute_result"
    }
   ],
   "source": [
    "X_new.shape"
   ]
  },
  {
   "cell_type": "code",
   "execution_count": 151,
   "id": "733c8b33",
   "metadata": {},
   "outputs": [],
   "source": [
    "from sklearn.model_selection import train_test_split\n",
    "X_train, X_test, y_train, y_test = train_test_split(X_new,y_new, test_size=0.2, random_state =25)"
   ]
  },
  {
   "cell_type": "code",
   "execution_count": 152,
   "id": "0a79af67",
   "metadata": {},
   "outputs": [],
   "source": [
    "from sklearn.ensemble import RandomForestClassifier\n",
    "cls = RandomForestClassifier(max_depth=2)\n",
    "cls.fit(X_train,y_train)\n",
    "y_pred = cls.predict(X_test)"
   ]
  },
  {
   "cell_type": "code",
   "execution_count": 153,
   "id": "5c11375a",
   "metadata": {},
   "outputs": [
    {
     "data": {
      "text/plain": [
       "0.8181818181818182"
      ]
     },
     "execution_count": 153,
     "metadata": {},
     "output_type": "execute_result"
    }
   ],
   "source": [
    "from sklearn import metrics\n",
    "metrics.accuracy_score(y_test, y_pred)"
   ]
  },
  {
   "cell_type": "code",
   "execution_count": 154,
   "id": "746dd866",
   "metadata": {},
   "outputs": [
    {
     "data": {
      "text/plain": [
       "0.8285714285714285"
      ]
     },
     "execution_count": 154,
     "metadata": {},
     "output_type": "execute_result"
    }
   ],
   "source": [
    "metrics.f1_score(y_test, y_pred)"
   ]
  },
  {
   "cell_type": "code",
   "execution_count": 155,
   "id": "e6d3bb31",
   "metadata": {},
   "outputs": [
    {
     "data": {
      "text/plain": [
       "array([[25,  8],\n",
       "       [ 4, 29]], dtype=int64)"
      ]
     },
     "execution_count": 155,
     "metadata": {},
     "output_type": "execute_result"
    }
   ],
   "source": [
    "metrics.confusion_matrix(y_test, y_pred)"
   ]
  },
  {
   "cell_type": "code",
   "execution_count": 156,
   "id": "7fca570c",
   "metadata": {
    "scrolled": true
   },
   "outputs": [
    {
     "data": {
      "text/plain": [
       "<AxesSubplot:>"
      ]
     },
     "execution_count": 156,
     "metadata": {},
     "output_type": "execute_result"
    },
    {
     "data": {
      "image/png": "[encoded data removed]",
      "text/plain": [
       "<Figure size 640x480 with 2 Axes>"
      ]
     },
     "metadata": {},
     "output_type": "display_data"
    }
   ],
   "source": [
    "import seaborn as sns\n",
    "sns.heatmap(metrics.confusion_matrix(y_test, y_pred), annot=True,cmap=\"Blues\")"
   ]
  },
  {
   "cell_type": "markdown",
   "id": "fca3ad9b",
   "metadata": {},
   "source": [
    "### 4) class_weight"
   ]
  },
  {
   "cell_type": "code",
   "execution_count": 157,
   "id": "c1d33ca8",
   "metadata": {},
   "outputs": [],
   "source": [
    "from sklearn.model_selection import train_test_split\n",
    "X_train, X_test, y_train, y_test = train_test_split(X,y, test_size=0.2, random_state =25)"
   ]
  },
  {
   "cell_type": "code",
   "execution_count": 166,
   "id": "d9e58886",
   "metadata": {},
   "outputs": [
    {
     "data": {
      "text/plain": [
       "58     1\n",
       "48     1\n",
       "40     1\n",
       "104    1\n",
       "68     1\n",
       "      ..\n",
       "154    1\n",
       "247    0\n",
       "194    0\n",
       "73     1\n",
       "1      1\n",
       "Name: output, Length: 61, dtype: int64"
      ]
     },
     "execution_count": 166,
     "metadata": {},
     "output_type": "execute_result"
    }
   ],
   "source": [
    "y_test"
   ]
  },
  {
   "cell_type": "code",
   "execution_count": 158,
   "id": "6fe76ed2",
   "metadata": {},
   "outputs": [],
   "source": [
    "from sklearn.ensemble import RandomForestClassifier\n",
    "cls = RandomForestClassifier(max_depth=2,class_weight='balanced')\n",
    "cls.fit(X_train,y_train)\n",
    "y_pred = cls.predict(X_test)"
   ]
  },
  {
   "cell_type": "code",
   "execution_count": 159,
   "id": "c9bc3001",
   "metadata": {},
   "outputs": [
    {
     "data": {
      "text/plain": [
       "0.819672131147541"
      ]
     },
     "execution_count": 159,
     "metadata": {},
     "output_type": "execute_result"
    }
   ],
   "source": [
    "from sklearn import metrics\n",
    "metrics.accuracy_score(y_test, y_pred)"
   ]
  },
  {
   "cell_type": "code",
   "execution_count": 160,
   "id": "de46cf02",
   "metadata": {},
   "outputs": [
    {
     "data": {
      "text/plain": [
       "0.8405797101449276"
      ]
     },
     "execution_count": 160,
     "metadata": {},
     "output_type": "execute_result"
    }
   ],
   "source": [
    "metrics.f1_score(y_test, y_pred)"
   ]
  },
  {
   "cell_type": "code",
   "execution_count": 161,
   "id": "fa865490",
   "metadata": {},
   "outputs": [
    {
     "data": {
      "text/plain": [
       "array([[21,  5],\n",
       "       [ 6, 29]], dtype=int64)"
      ]
     },
     "execution_count": 161,
     "metadata": {},
     "output_type": "execute_result"
    }
   ],
   "source": [
    "metrics.confusion_matrix(y_test, y_pred)"
   ]
  },
  {
   "cell_type": "code",
   "execution_count": 167,
   "id": "7f9461a7",
   "metadata": {},
   "outputs": [
    {
     "data": {
      "text/plain": [
       "<AxesSubplot:>"
      ]
     },
     "execution_count": 167,
     "metadata": {},
     "output_type": "execute_result"
    },
    {
     "data": {
      "image/png": "[encoded data removed]",
      "text/plain": [
       "<Figure size 640x480 with 2 Axes>"
      ]
     },
     "metadata": {},
     "output_type": "display_data"
    }
   ],
   "source": [
    "import seaborn as sns\n",
    "sns.heatmap(metrics.confusion_matrix(y_test, y_pred), annot=True,cmap=\"Blues\")"
   ]
  },
  {
   "cell_type": "code",
   "execution_count": null,
   "id": "1289767f",
   "metadata": {},
   "outputs": [],
   "source": []
  },
  {
   "cell_type": "code",
   "execution_count": null,
   "id": "1d9ac8c7",
   "metadata": {},
   "outputs": [],
   "source": []
  },
  {
   "cell_type": "code",
   "execution_count": null,
   "id": "f344a36c",
   "metadata": {},
   "outputs": [],
   "source": []
  },
  {
   "cell_type": "code",
   "execution_count": null,
   "id": "46b0ce3b",
   "metadata": {},
   "outputs": [],
   "source": []
  },
  {
   "cell_type": "markdown",
   "id": "78b027ec",
   "metadata": {},
   "source": [
    "## Kaggle"
   ]
  },
  {
   "cell_type": "markdown",
   "id": "594cd834",
   "metadata": {},
   "source": [
    "### 1. Загрузите и прочитайте в pandas приложенный датасет. Посмотрите размер датасета, типы переменных, пустые значения."
   ]
  },
  {
   "cell_type": "code",
   "execution_count": 180,
   "id": "3ec4584f",
   "metadata": {},
   "outputs": [],
   "source": [
    "df = pd.read_csv(\"C:\\\\Users\\\\aidar\\\\Downloads\\\\moscow_full_2.0.csv\\\\moscow_full_2.0.csv\")"
   ]
  },
  {
   "cell_type": "code",
   "execution_count": 181,
   "id": "79a26a19",
   "metadata": {},
   "outputs": [
    {
     "data": {
      "text/html": [
       "<div>\n",
       "<style scoped>\n",
       "    .dataframe tbody tr th:only-of-type {\n",
       "        vertical-align: middle;\n",
       "    }\n",
       "\n",
       "    .dataframe tbody tr th {\n",
       "        vertical-align: top;\n",
       "    }\n",
       "\n",
       "    .dataframe thead th {\n",
       "        text-align: right;\n",
       "    }\n",
       "</style>\n",
       "<table border=\"1\" class=\"dataframe\">\n",
       "  <thead>\n",
       "    <tr style=\"text-align: right;\">\n",
       "      <th></th>\n",
       "      <th>title</th>\n",
       "      <th>description</th>\n",
       "      <th>adress</th>\n",
       "      <th>metro</th>\n",
       "      <th>cost</th>\n",
       "      <th>cost_for_meter</th>\n",
       "    </tr>\n",
       "  </thead>\n",
       "  <tbody>\n",
       "    <tr>\n",
       "      <th>0</th>\n",
       "      <td>Квартира своб. планировки, 130 м², 5/5 эт.</td>\n",
       "      <td>Представляю Вашему вниманию 2-х уровневый пент...</td>\n",
       "      <td>Москва, 3-я улица Ямского Поля, 9к3</td>\n",
       "      <td>Белорусская 407 м</td>\n",
       "      <td>38 000 000 ₽</td>\n",
       "      <td>292 308 ₽ за м²</td>\n",
       "    </tr>\n",
       "    <tr>\n",
       "      <th>1</th>\n",
       "      <td>2-комн. квартира, 93 м², 6/10 эт.</td>\n",
       "      <td>В премиальном ЖК Hyatt Regency предлагаем Ваше...</td>\n",
       "      <td>Москва, Ленинградский проспект, 36с31</td>\n",
       "      <td>Динамо 612 м</td>\n",
       "      <td>47 000 000 ₽</td>\n",
       "      <td>505 376 ₽ за м²</td>\n",
       "    </tr>\n",
       "    <tr>\n",
       "      <th>2</th>\n",
       "      <td>1-комн. квартира, 36 м², 5/16 эт.</td>\n",
       "      <td>Свободная продажа, никто не прописан. В кварти...</td>\n",
       "      <td>Москва, Печорская улица, 5</td>\n",
       "      <td>Бабушкинская 792 м</td>\n",
       "      <td>8 800 000 ₽</td>\n",
       "      <td>244 444 ₽ за м²</td>\n",
       "    </tr>\n",
       "    <tr>\n",
       "      <th>3</th>\n",
       "      <td>1-комн. квартира, 47.59 м²</td>\n",
       "      <td>Многофункциональный комплекс «Нахимов» предста...</td>\n",
       "      <td>пр-т Нахимовский</td>\n",
       "      <td>Профсоюзная 1.4 км</td>\n",
       "      <td>8 810 837 ₽</td>\n",
       "      <td>185 141 ₽ за м²</td>\n",
       "    </tr>\n",
       "    <tr>\n",
       "      <th>4</th>\n",
       "      <td>1-комн. квартира, 36 м², 6/12 эт.</td>\n",
       "      <td>Собственник. Риелторов и прочих помогателей ПР...</td>\n",
       "      <td>Москва, Новорогожская улица, 11к2</td>\n",
       "      <td>Римская 446 м</td>\n",
       "      <td>11 700 000 ₽</td>\n",
       "      <td>325 000 ₽ за м²</td>\n",
       "    </tr>\n",
       "    <tr>\n",
       "      <th>...</th>\n",
       "      <td>...</td>\n",
       "      <td>...</td>\n",
       "      <td>...</td>\n",
       "      <td>...</td>\n",
       "      <td>...</td>\n",
       "      <td>...</td>\n",
       "    </tr>\n",
       "    <tr>\n",
       "      <th>55843</th>\n",
       "      <td>3-комн. квартира, 58.4 м², 3/12 эт.</td>\n",
       "      <td>ПРОЧИТАЙТЕ ОБЪЯВЛЕНИЕ ПОЛНОСТЬЮ !!!Звонить СТР...</td>\n",
       "      <td>Москва, Элеваторная улица, 14</td>\n",
       "      <td>Бирюлёво Тов. 1.2 км</td>\n",
       "      <td>6 143 200 ₽</td>\n",
       "      <td>105 192 ₽ за м²</td>\n",
       "    </tr>\n",
       "    <tr>\n",
       "      <th>55844</th>\n",
       "      <td>3-комн. квартира, 74.8 м², 5/17 эт.</td>\n",
       "      <td>ПРОЧИТАЙТЕ ОБЪЯВЛЕНИЕ ПОЛНОСТЬЮ !!!Звонить СТР...</td>\n",
       "      <td>Москва, Хорошёвское шоссе, 64к2</td>\n",
       "      <td>Хорошёвская 663 м</td>\n",
       "      <td>12 244 525 ₽</td>\n",
       "      <td>163 697 ₽ за м²</td>\n",
       "    </tr>\n",
       "    <tr>\n",
       "      <th>55845</th>\n",
       "      <td>2-комн. квартира, 53.9 м², 6/17 эт.</td>\n",
       "      <td>ПРОЧИТАЙТЕ ОБЪЯВЛЕНИЕ ПОЛНОСТЬЮ !!!Звонить СТР...</td>\n",
       "      <td>Москва, Липецкая улица, 17к1</td>\n",
       "      <td>Бирюлёво Пасс. 1.7 км</td>\n",
       "      <td>6 868 000 ₽</td>\n",
       "      <td>127 421 ₽ за м²</td>\n",
       "    </tr>\n",
       "    <tr>\n",
       "      <th>55846</th>\n",
       "      <td>1-комн. квартира, 30.7 м², 3/5 эт.</td>\n",
       "      <td>ПРОЧИТАЙТЕ ОБЪЯВЛЕНИЕ ПОЛНОСТЬЮ !!!Звонить СТР...</td>\n",
       "      <td>Москва, Веерная улица, 10</td>\n",
       "      <td>Матвеевская 863 м</td>\n",
       "      <td>5 360 000 ₽</td>\n",
       "      <td>174 593 ₽ за м²</td>\n",
       "    </tr>\n",
       "    <tr>\n",
       "      <th>55847</th>\n",
       "      <td>1-комн. квартира, 35.3 м², 3/16 эт.</td>\n",
       "      <td>ПРОЧИТАЙТЕ ОБЪЯВЛЕНИЕ ПОЛНОСТЬЮ !!!Звонить СТР...</td>\n",
       "      <td>Москва, улица Академика Арцимовича, 12к1</td>\n",
       "      <td>Беляево 1.1 км</td>\n",
       "      <td>5 434 115 ₽</td>\n",
       "      <td>153 941 ₽ за м²</td>\n",
       "    </tr>\n",
       "  </tbody>\n",
       "</table>\n",
       "<p>55848 rows × 6 columns</p>\n",
       "</div>"
      ],
      "text/plain": [
       "                                            title  \\\n",
       "0      Квартира своб. планировки, 130 м², 5/5 эт.   \n",
       "1               2-комн. квартира, 93 м², 6/10 эт.   \n",
       "2               1-комн. квартира, 36 м², 5/16 эт.   \n",
       "3                      1-комн. квартира, 47.59 м²   \n",
       "4               1-комн. квартира, 36 м², 6/12 эт.   \n",
       "...                                           ...   \n",
       "55843         3-комн. квартира, 58.4 м², 3/12 эт.   \n",
       "55844         3-комн. квартира, 74.8 м², 5/17 эт.   \n",
       "55845         2-комн. квартира, 53.9 м², 6/17 эт.   \n",
       "55846          1-комн. квартира, 30.7 м², 3/5 эт.   \n",
       "55847         1-комн. квартира, 35.3 м², 3/16 эт.   \n",
       "\n",
       "                                             description  \\\n",
       "0      Представляю Вашему вниманию 2-х уровневый пент...   \n",
       "1      В премиальном ЖК Hyatt Regency предлагаем Ваше...   \n",
       "2      Свободная продажа, никто не прописан. В кварти...   \n",
       "3      Многофункциональный комплекс «Нахимов» предста...   \n",
       "4      Собственник. Риелторов и прочих помогателей ПР...   \n",
       "...                                                  ...   \n",
       "55843  ПРОЧИТАЙТЕ ОБЪЯВЛЕНИЕ ПОЛНОСТЬЮ !!!Звонить СТР...   \n",
       "55844  ПРОЧИТАЙТЕ ОБЪЯВЛЕНИЕ ПОЛНОСТЬЮ !!!Звонить СТР...   \n",
       "55845  ПРОЧИТАЙТЕ ОБЪЯВЛЕНИЕ ПОЛНОСТЬЮ !!!Звонить СТР...   \n",
       "55846  ПРОЧИТАЙТЕ ОБЪЯВЛЕНИЕ ПОЛНОСТЬЮ !!!Звонить СТР...   \n",
       "55847  ПРОЧИТАЙТЕ ОБЪЯВЛЕНИЕ ПОЛНОСТЬЮ !!!Звонить СТР...   \n",
       "\n",
       "                                         adress                  metro  \\\n",
       "0           Москва, 3-я улица Ямского Поля, 9к3      Белорусская 407 м   \n",
       "1         Москва, Ленинградский проспект, 36с31           Динамо 612 м   \n",
       "2                    Москва, Печорская улица, 5     Бабушкинская 792 м   \n",
       "3                              пр-т Нахимовский     Профсоюзная 1.4 км   \n",
       "4             Москва, Новорогожская улица, 11к2          Римская 446 м   \n",
       "...                                         ...                    ...   \n",
       "55843             Москва, Элеваторная улица, 14   Бирюлёво Тов. 1.2 км   \n",
       "55844           Москва, Хорошёвское шоссе, 64к2      Хорошёвская 663 м   \n",
       "55845              Москва, Липецкая улица, 17к1  Бирюлёво Пасс. 1.7 км   \n",
       "55846                 Москва, Веерная улица, 10      Матвеевская 863 м   \n",
       "55847  Москва, улица Академика Арцимовича, 12к1         Беляево 1.1 км   \n",
       "\n",
       "               cost   cost_for_meter  \n",
       "0      38 000 000 ₽  292 308 ₽ за м²  \n",
       "1      47 000 000 ₽  505 376 ₽ за м²  \n",
       "2       8 800 000 ₽  244 444 ₽ за м²  \n",
       "3       8 810 837 ₽  185 141 ₽ за м²  \n",
       "4      11 700 000 ₽  325 000 ₽ за м²  \n",
       "...             ...              ...  \n",
       "55843   6 143 200 ₽  105 192 ₽ за м²  \n",
       "55844  12 244 525 ₽  163 697 ₽ за м²  \n",
       "55845   6 868 000 ₽  127 421 ₽ за м²  \n",
       "55846   5 360 000 ₽  174 593 ₽ за м²  \n",
       "55847   5 434 115 ₽  153 941 ₽ за м²  \n",
       "\n",
       "[55848 rows x 6 columns]"
      ]
     },
     "execution_count": 181,
     "metadata": {},
     "output_type": "execute_result"
    }
   ],
   "source": [
    "df"
   ]
  },
  {
   "cell_type": "code",
   "execution_count": 182,
   "id": "d72d9b4e",
   "metadata": {},
   "outputs": [
    {
     "data": {
      "text/plain": [
       "(55848, 6)"
      ]
     },
     "execution_count": 182,
     "metadata": {},
     "output_type": "execute_result"
    }
   ],
   "source": [
    "df.shape"
   ]
  },
  {
   "cell_type": "code",
   "execution_count": 183,
   "id": "516e696d",
   "metadata": {},
   "outputs": [
    {
     "name": "stdout",
     "output_type": "stream",
     "text": [
      "<class 'pandas.core.frame.DataFrame'>\n",
      "RangeIndex: 55848 entries, 0 to 55847\n",
      "Data columns (total 6 columns):\n",
      " #   Column          Non-Null Count  Dtype \n",
      "---  ------          --------------  ----- \n",
      " 0   title           55848 non-null  object\n",
      " 1   description     55848 non-null  object\n",
      " 2   adress          55532 non-null  object\n",
      " 3   metro           55848 non-null  object\n",
      " 4   cost            55848 non-null  object\n",
      " 5   cost_for_meter  55848 non-null  object\n",
      "dtypes: object(6)\n",
      "memory usage: 2.6+ MB\n"
     ]
    }
   ],
   "source": [
    "df.info()"
   ]
  },
  {
   "cell_type": "code",
   "execution_count": 184,
   "id": "a7184dba",
   "metadata": {},
   "outputs": [],
   "source": [
    "df.drop_duplicates(inplace=True)"
   ]
  },
  {
   "cell_type": "code",
   "execution_count": 185,
   "id": "22eab16b",
   "metadata": {},
   "outputs": [
    {
     "data": {
      "text/plain": [
       "(55315, 6)"
      ]
     },
     "execution_count": 185,
     "metadata": {},
     "output_type": "execute_result"
    }
   ],
   "source": [
    "df.shape"
   ]
  },
  {
   "cell_type": "markdown",
   "id": "3ecbb521",
   "metadata": {},
   "source": [
    "### 2. Разбейте столбец title на 4 столбца: количество комнат (n_rooms), площадь квартиры (area), этаж (floor), этажность дома (n_house_floors). А сам столбец title удалите. Типы данных в столбцах сделайте int или float."
   ]
  },
  {
   "cell_type": "code",
   "execution_count": 186,
   "id": "c7ccc291",
   "metadata": {},
   "outputs": [
    {
     "name": "stdout",
     "output_type": "stream",
     "text": [
      "None\n"
     ]
    }
   ],
   "source": [
    "import re\n",
    "\n",
    "# Извлечение данных из столбца 'title' с использованием регулярных выражений\n",
    "pattern = r'(\\d+)-комн\\.\\s+квартира,\\s+(\\d+)\\s+м²,\\s+(\\d+)/(\\d+)\\s+эт.'\n",
    "matches = df['title'].str.extract(pattern)\n",
    "\n",
    "# Создание новых столбцов\n",
    "df['n_rooms'] = matches[0]\n",
    "df['area'] = matches[1]\n",
    "df['floor'] = matches[2]\n",
    "df['n_house_floors'] = matches[3]\n",
    "\n",
    "# Удаление столбца 'title'\n",
    "df.drop('title', axis=1, inplace=True)\n",
    "\n",
    "# Вывод обновленного датасета\n",
    "print(df.dropna(inplace=True))"
   ]
  },
  {
   "cell_type": "code",
   "execution_count": 199,
   "id": "25d5f507",
   "metadata": {},
   "outputs": [
    {
     "data": {
      "text/html": [
       "<div>\n",
       "<style scoped>\n",
       "    .dataframe tbody tr th:only-of-type {\n",
       "        vertical-align: middle;\n",
       "    }\n",
       "\n",
       "    .dataframe tbody tr th {\n",
       "        vertical-align: top;\n",
       "    }\n",
       "\n",
       "    .dataframe thead th {\n",
       "        text-align: right;\n",
       "    }\n",
       "</style>\n",
       "<table border=\"1\" class=\"dataframe\">\n",
       "  <thead>\n",
       "    <tr style=\"text-align: right;\">\n",
       "      <th></th>\n",
       "      <th>description</th>\n",
       "      <th>adress</th>\n",
       "      <th>cost</th>\n",
       "      <th>cost_for_meter</th>\n",
       "      <th>n_rooms</th>\n",
       "      <th>area</th>\n",
       "      <th>floor</th>\n",
       "      <th>n_house_floors</th>\n",
       "      <th>distance</th>\n",
       "      <th>metro_name</th>\n",
       "    </tr>\n",
       "  </thead>\n",
       "  <tbody>\n",
       "    <tr>\n",
       "      <th>1</th>\n",
       "      <td>В премиальном ЖК Hyatt Regency предлагаем Ваше...</td>\n",
       "      <td>Москва, Ленинградский проспект, 36с31</td>\n",
       "      <td>47 000 000 ₽</td>\n",
       "      <td>505 376 ₽ за м²</td>\n",
       "      <td>2</td>\n",
       "      <td>93</td>\n",
       "      <td>6</td>\n",
       "      <td>10</td>\n",
       "      <td>None</td>\n",
       "      <td>NaN</td>\n",
       "    </tr>\n",
       "    <tr>\n",
       "      <th>2</th>\n",
       "      <td>Свободная продажа, никто не прописан. В кварти...</td>\n",
       "      <td>Москва, Печорская улица, 5</td>\n",
       "      <td>8 800 000 ₽</td>\n",
       "      <td>244 444 ₽ за м²</td>\n",
       "      <td>1</td>\n",
       "      <td>36</td>\n",
       "      <td>5</td>\n",
       "      <td>16</td>\n",
       "      <td>None</td>\n",
       "      <td>NaN</td>\n",
       "    </tr>\n",
       "    <tr>\n",
       "      <th>4</th>\n",
       "      <td>Собственник. Риелторов и прочих помогателей ПР...</td>\n",
       "      <td>Москва, Новорогожская улица, 11к2</td>\n",
       "      <td>11 700 000 ₽</td>\n",
       "      <td>325 000 ₽ за м²</td>\n",
       "      <td>1</td>\n",
       "      <td>36</td>\n",
       "      <td>6</td>\n",
       "      <td>12</td>\n",
       "      <td>None</td>\n",
       "      <td>NaN</td>\n",
       "    </tr>\n",
       "    <tr>\n",
       "      <th>5</th>\n",
       "      <td>Прекрасная квартира с европланировкой в ЖК Ска...</td>\n",
       "      <td>Москва, поселение Сосенское, Скандинавский бул...</td>\n",
       "      <td>9 500 000 ₽</td>\n",
       "      <td>158 333 ₽ за м²</td>\n",
       "      <td>2</td>\n",
       "      <td>60</td>\n",
       "      <td>3</td>\n",
       "      <td>8</td>\n",
       "      <td>None</td>\n",
       "      <td>NaN</td>\n",
       "    </tr>\n",
       "    <tr>\n",
       "      <th>6</th>\n",
       "      <td>От метро Сокол 3 мин. пешком, Квартира покупал...</td>\n",
       "      <td>Москва, улица Усиевича, 27к1</td>\n",
       "      <td>28 800 000 ₽</td>\n",
       "      <td>288 000 ₽ за м²</td>\n",
       "      <td>3</td>\n",
       "      <td>100</td>\n",
       "      <td>7</td>\n",
       "      <td>14</td>\n",
       "      <td>None</td>\n",
       "      <td>NaN</td>\n",
       "    </tr>\n",
       "    <tr>\n",
       "      <th>...</th>\n",
       "      <td>...</td>\n",
       "      <td>...</td>\n",
       "      <td>...</td>\n",
       "      <td>...</td>\n",
       "      <td>...</td>\n",
       "      <td>...</td>\n",
       "      <td>...</td>\n",
       "      <td>...</td>\n",
       "      <td>...</td>\n",
       "      <td>...</td>\n",
       "    </tr>\n",
       "    <tr>\n",
       "      <th>55815</th>\n",
       "      <td>🛑Пpoдaeтся 2-комнатный aпартамент в ЖK Lеvel П...</td>\n",
       "      <td>пр-д Жуков, д. 21Б</td>\n",
       "      <td>16 000 000 ₽</td>\n",
       "      <td>228 571 ₽ за м²</td>\n",
       "      <td>2</td>\n",
       "      <td>70</td>\n",
       "      <td>8</td>\n",
       "      <td>9</td>\n",
       "      <td>None</td>\n",
       "      <td>NaN</td>\n",
       "    </tr>\n",
       "    <tr>\n",
       "      <th>55818</th>\n",
       "      <td>🛑Прoдаeтcя 2-кoмнатная квартира в ЖK Хoрошевск...</td>\n",
       "      <td>ул. 3-я Хорошёвская, д. 21, корп. 1</td>\n",
       "      <td>16 000 000 ₽</td>\n",
       "      <td>235 294 ₽ за м²</td>\n",
       "      <td>2</td>\n",
       "      <td>68</td>\n",
       "      <td>7</td>\n",
       "      <td>22</td>\n",
       "      <td>None</td>\n",
       "      <td>NaN</td>\n",
       "    </tr>\n",
       "    <tr>\n",
       "      <th>55820</th>\n",
       "      <td>АПАРТАМЕНТЫ (с юридической точки зрения апарта...</td>\n",
       "      <td>Москва, 1-я Вольская улица, 10</td>\n",
       "      <td>12 499 000 ₽</td>\n",
       "      <td>83 886 ₽ за м²</td>\n",
       "      <td>4</td>\n",
       "      <td>149</td>\n",
       "      <td>1</td>\n",
       "      <td>14</td>\n",
       "      <td>None</td>\n",
       "      <td>NaN</td>\n",
       "    </tr>\n",
       "    <tr>\n",
       "      <th>55827</th>\n",
       "      <td>Предлагается 3-х комнатная квартира в квартале...</td>\n",
       "      <td>Москва, Восточный административный округ, райо...</td>\n",
       "      <td>44 800 000 ₽</td>\n",
       "      <td>331 852 ₽ за м²</td>\n",
       "      <td>3</td>\n",
       "      <td>135</td>\n",
       "      <td>11</td>\n",
       "      <td>14</td>\n",
       "      <td>None</td>\n",
       "      <td>NaN</td>\n",
       "    </tr>\n",
       "    <tr>\n",
       "      <th>55833</th>\n",
       "      <td>ПРОЧИТАЙТЕ ОБЪЯВЛЕНИЕ ПОЛНОСТЬЮ !!!Звонить СТР...</td>\n",
       "      <td>Москва, 1-я Напрудная улица, 11</td>\n",
       "      <td>5 110 000 ₽</td>\n",
       "      <td>113 556 ₽ за м²</td>\n",
       "      <td>2</td>\n",
       "      <td>45</td>\n",
       "      <td>6</td>\n",
       "      <td>12</td>\n",
       "      <td>None</td>\n",
       "      <td>NaN</td>\n",
       "    </tr>\n",
       "  </tbody>\n",
       "</table>\n",
       "<p>16951 rows × 10 columns</p>\n",
       "</div>"
      ],
      "text/plain": [
       "                                             description  \\\n",
       "1      В премиальном ЖК Hyatt Regency предлагаем Ваше...   \n",
       "2      Свободная продажа, никто не прописан. В кварти...   \n",
       "4      Собственник. Риелторов и прочих помогателей ПР...   \n",
       "5      Прекрасная квартира с европланировкой в ЖК Ска...   \n",
       "6      От метро Сокол 3 мин. пешком, Квартира покупал...   \n",
       "...                                                  ...   \n",
       "55815  🛑Пpoдaeтся 2-комнатный aпартамент в ЖK Lеvel П...   \n",
       "55818  🛑Прoдаeтcя 2-кoмнатная квартира в ЖK Хoрошевск...   \n",
       "55820  АПАРТАМЕНТЫ (с юридической точки зрения апарта...   \n",
       "55827  Предлагается 3-х комнатная квартира в квартале...   \n",
       "55833  ПРОЧИТАЙТЕ ОБЪЯВЛЕНИЕ ПОЛНОСТЬЮ !!!Звонить СТР...   \n",
       "\n",
       "                                                  adress          cost  \\\n",
       "1                  Москва, Ленинградский проспект, 36с31  47 000 000 ₽   \n",
       "2                             Москва, Печорская улица, 5   8 800 000 ₽   \n",
       "4                      Москва, Новорогожская улица, 11к2  11 700 000 ₽   \n",
       "5      Москва, поселение Сосенское, Скандинавский бул...   9 500 000 ₽   \n",
       "6                           Москва, улица Усиевича, 27к1  28 800 000 ₽   \n",
       "...                                                  ...           ...   \n",
       "55815                                 пр-д Жуков, д. 21Б  16 000 000 ₽   \n",
       "55818                ул. 3-я Хорошёвская, д. 21, корп. 1  16 000 000 ₽   \n",
       "55820                     Москва, 1-я Вольская улица, 10  12 499 000 ₽   \n",
       "55827  Москва, Восточный административный округ, райо...  44 800 000 ₽   \n",
       "55833                    Москва, 1-я Напрудная улица, 11   5 110 000 ₽   \n",
       "\n",
       "        cost_for_meter n_rooms area floor n_house_floors distance metro_name  \n",
       "1      505 376 ₽ за м²       2   93     6             10     None        NaN  \n",
       "2      244 444 ₽ за м²       1   36     5             16     None        NaN  \n",
       "4      325 000 ₽ за м²       1   36     6             12     None        NaN  \n",
       "5      158 333 ₽ за м²       2   60     3              8     None        NaN  \n",
       "6      288 000 ₽ за м²       3  100     7             14     None        NaN  \n",
       "...                ...     ...  ...   ...            ...      ...        ...  \n",
       "55815  228 571 ₽ за м²       2   70     8              9     None        NaN  \n",
       "55818  235 294 ₽ за м²       2   68     7             22     None        NaN  \n",
       "55820   83 886 ₽ за м²       4  149     1             14     None        NaN  \n",
       "55827  331 852 ₽ за м²       3  135    11             14     None        NaN  \n",
       "55833  113 556 ₽ за м²       2   45     6             12     None        NaN  \n",
       "\n",
       "[16951 rows x 10 columns]"
      ]
     },
     "execution_count": 199,
     "metadata": {},
     "output_type": "execute_result"
    }
   ],
   "source": [
    "df"
   ]
  },
  {
   "cell_type": "code",
   "execution_count": 191,
   "id": "5782231b",
   "metadata": {},
   "outputs": [
    {
     "name": "stdout",
     "output_type": "stream",
     "text": [
      "                                         description  \\\n",
      "1  В премиальном ЖК Hyatt Regency предлагаем Ваше...   \n",
      "2  Свободная продажа, никто не прописан. В кварти...   \n",
      "4  Собственник. Риелторов и прочих помогателей ПР...   \n",
      "5  Прекрасная квартира с европланировкой в ЖК Ска...   \n",
      "6  От метро Сокол 3 мин. пешком, Квартира покупал...   \n",
      "\n",
      "                                              adress          cost  \\\n",
      "1              Москва, Ленинградский проспект, 36с31  47 000 000 ₽   \n",
      "2                         Москва, Печорская улица, 5   8 800 000 ₽   \n",
      "4                  Москва, Новорогожская улица, 11к2  11 700 000 ₽   \n",
      "5  Москва, поселение Сосенское, Скандинавский бул...   9 500 000 ₽   \n",
      "6                       Москва, улица Усиевича, 27к1  28 800 000 ₽   \n",
      "\n",
      "    cost_for_meter n_rooms area floor n_house_floors distance  \n",
      "1  505 376 ₽ за м²       2   93     6             10     None  \n",
      "2  244 444 ₽ за м²       1   36     5             16     None  \n",
      "4  325 000 ₽ за м²       1   36     6             12     None  \n",
      "5  158 333 ₽ за м²       2   60     3              8     None  \n",
      "6  288 000 ₽ за м²       3  100     7             14     None  \n"
     ]
    }
   ],
   "source": [
    "import pandas as pd\n",
    "import re\n",
    "\n",
    "# Загрузка данных\n",
    "dataset = df\n",
    "\n",
    "# Разбиение столбца 'metro' на отдельные столбцы 'metro_name' и 'distance' с использованием регулярных выражений\n",
    "pattern = r'(.+?)\\s*,\\s*(\\d+\\.?\\d*)\\s*(м|км)'\n",
    "matches = dataset['metro'].str.extract(pattern)\n",
    "\n",
    "# Преобразование удаленности в метры\n",
    "def convert_to_meters(row, unit):\n",
    "    distance = row[0]\n",
    "    if row[1] == 'м':\n",
    "        return float(distance)\n",
    "    elif row[1] == 'км':\n",
    "        return float(distance) * 1000\n",
    "    else:\n",
    "        return None\n",
    "\n",
    "dataset['distance'] = matches.apply(convert_to_meters, unit=matches[2], axis=1)\n",
    "\n",
    "# Удаление лишних пробелов из столбца 'metro_name'\n",
    "dataset['metro_name'] = matches[0].str.strip()\n",
    "\n",
    "# Удаление столбца 'metro'\n",
    "dataset.drop('metro', axis=1, inplace=True)\n",
    "\n",
    "# Создание dummy переменных для столбца 'metro_name'\n",
    "metro_dummies = pd.get_dummies(dataset['metro_name'], prefix='metro')\n",
    "dataset = pd.concat([dataset, metro_dummies], axis=1)\n",
    "\n",
    "# Удаление столбца 'metro_name'\n",
    "dataset.drop('metro_name', axis=1, inplace=True)\n",
    "\n",
    "# Вывод обновленного датасета\n",
    "print(dataset.head())\n"
   ]
  },
  {
   "cell_type": "code",
   "execution_count": 193,
   "id": "befa54c1",
   "metadata": {},
   "outputs": [
    {
     "ename": "KeyError",
     "evalue": "\"['cost_for_meter', 'adress', 'description'] not found in axis\"",
     "output_type": "error",
     "traceback": [
      "\u001b[1;31m---------------------------------------------------------------------------\u001b[0m",
      "\u001b[1;31mKeyError\u001b[0m                                  Traceback (most recent call last)",
      "\u001b[1;32m~\\AppData\\Local\\Temp\\ipykernel_2592\\3042637710.py\u001b[0m in \u001b[0;36m<module>\u001b[1;34m\u001b[0m\n\u001b[0;32m      5\u001b[0m \u001b[1;33m\u001b[0m\u001b[0m\n\u001b[0;32m      6\u001b[0m \u001b[1;31m# Удаление столбцов 'cost_for_meter', 'adress' и 'description'\u001b[0m\u001b[1;33m\u001b[0m\u001b[1;33m\u001b[0m\u001b[0m\n\u001b[1;32m----> 7\u001b[1;33m \u001b[0mdataset\u001b[0m\u001b[1;33m.\u001b[0m\u001b[0mdrop\u001b[0m\u001b[1;33m(\u001b[0m\u001b[1;33m[\u001b[0m\u001b[1;34m'cost_for_meter'\u001b[0m\u001b[1;33m,\u001b[0m \u001b[1;34m'adress'\u001b[0m\u001b[1;33m,\u001b[0m \u001b[1;34m'description'\u001b[0m\u001b[1;33m]\u001b[0m\u001b[1;33m,\u001b[0m \u001b[0maxis\u001b[0m\u001b[1;33m=\u001b[0m\u001b[1;36m1\u001b[0m\u001b[1;33m,\u001b[0m \u001b[0minplace\u001b[0m\u001b[1;33m=\u001b[0m\u001b[1;32mTrue\u001b[0m\u001b[1;33m)\u001b[0m\u001b[1;33m\u001b[0m\u001b[1;33m\u001b[0m\u001b[0m\n\u001b[0m\u001b[0;32m      8\u001b[0m \u001b[1;33m\u001b[0m\u001b[0m\n\u001b[0;32m      9\u001b[0m \u001b[1;31m# Вывод обновленного датасета\u001b[0m\u001b[1;33m\u001b[0m\u001b[1;33m\u001b[0m\u001b[0m\n",
      "\u001b[1;32mD:\\Anaconda\\lib\\site-packages\\pandas\\util\\_decorators.py\u001b[0m in \u001b[0;36mwrapper\u001b[1;34m(*args, **kwargs)\u001b[0m\n\u001b[0;32m    309\u001b[0m                     \u001b[0mstacklevel\u001b[0m\u001b[1;33m=\u001b[0m\u001b[0mstacklevel\u001b[0m\u001b[1;33m,\u001b[0m\u001b[1;33m\u001b[0m\u001b[1;33m\u001b[0m\u001b[0m\n\u001b[0;32m    310\u001b[0m                 )\n\u001b[1;32m--> 311\u001b[1;33m             \u001b[1;32mreturn\u001b[0m \u001b[0mfunc\u001b[0m\u001b[1;33m(\u001b[0m\u001b[1;33m*\u001b[0m\u001b[0margs\u001b[0m\u001b[1;33m,\u001b[0m \u001b[1;33m**\u001b[0m\u001b[0mkwargs\u001b[0m\u001b[1;33m)\u001b[0m\u001b[1;33m\u001b[0m\u001b[1;33m\u001b[0m\u001b[0m\n\u001b[0m\u001b[0;32m    312\u001b[0m \u001b[1;33m\u001b[0m\u001b[0m\n\u001b[0;32m    313\u001b[0m         \u001b[1;32mreturn\u001b[0m \u001b[0mwrapper\u001b[0m\u001b[1;33m\u001b[0m\u001b[1;33m\u001b[0m\u001b[0m\n",
      "\u001b[1;32mD:\\Anaconda\\lib\\site-packages\\pandas\\core\\frame.py\u001b[0m in \u001b[0;36mdrop\u001b[1;34m(self, labels, axis, index, columns, level, inplace, errors)\u001b[0m\n\u001b[0;32m   4955\u001b[0m                 \u001b[0mweight\u001b[0m  \u001b[1;36m1.0\u001b[0m     \u001b[1;36m0.8\u001b[0m\u001b[1;33m\u001b[0m\u001b[1;33m\u001b[0m\u001b[0m\n\u001b[0;32m   4956\u001b[0m         \"\"\"\n\u001b[1;32m-> 4957\u001b[1;33m         return super().drop(\n\u001b[0m\u001b[0;32m   4958\u001b[0m             \u001b[0mlabels\u001b[0m\u001b[1;33m=\u001b[0m\u001b[0mlabels\u001b[0m\u001b[1;33m,\u001b[0m\u001b[1;33m\u001b[0m\u001b[1;33m\u001b[0m\u001b[0m\n\u001b[0;32m   4959\u001b[0m             \u001b[0maxis\u001b[0m\u001b[1;33m=\u001b[0m\u001b[0maxis\u001b[0m\u001b[1;33m,\u001b[0m\u001b[1;33m\u001b[0m\u001b[1;33m\u001b[0m\u001b[0m\n",
      "\u001b[1;32mD:\\Anaconda\\lib\\site-packages\\pandas\\core\\generic.py\u001b[0m in \u001b[0;36mdrop\u001b[1;34m(self, labels, axis, index, columns, level, inplace, errors)\u001b[0m\n\u001b[0;32m   4265\u001b[0m         \u001b[1;32mfor\u001b[0m \u001b[0maxis\u001b[0m\u001b[1;33m,\u001b[0m \u001b[0mlabels\u001b[0m \u001b[1;32min\u001b[0m \u001b[0maxes\u001b[0m\u001b[1;33m.\u001b[0m\u001b[0mitems\u001b[0m\u001b[1;33m(\u001b[0m\u001b[1;33m)\u001b[0m\u001b[1;33m:\u001b[0m\u001b[1;33m\u001b[0m\u001b[1;33m\u001b[0m\u001b[0m\n\u001b[0;32m   4266\u001b[0m             \u001b[1;32mif\u001b[0m \u001b[0mlabels\u001b[0m \u001b[1;32mis\u001b[0m \u001b[1;32mnot\u001b[0m \u001b[1;32mNone\u001b[0m\u001b[1;33m:\u001b[0m\u001b[1;33m\u001b[0m\u001b[1;33m\u001b[0m\u001b[0m\n\u001b[1;32m-> 4267\u001b[1;33m                 \u001b[0mobj\u001b[0m \u001b[1;33m=\u001b[0m \u001b[0mobj\u001b[0m\u001b[1;33m.\u001b[0m\u001b[0m_drop_axis\u001b[0m\u001b[1;33m(\u001b[0m\u001b[0mlabels\u001b[0m\u001b[1;33m,\u001b[0m \u001b[0maxis\u001b[0m\u001b[1;33m,\u001b[0m \u001b[0mlevel\u001b[0m\u001b[1;33m=\u001b[0m\u001b[0mlevel\u001b[0m\u001b[1;33m,\u001b[0m \u001b[0merrors\u001b[0m\u001b[1;33m=\u001b[0m\u001b[0merrors\u001b[0m\u001b[1;33m)\u001b[0m\u001b[1;33m\u001b[0m\u001b[1;33m\u001b[0m\u001b[0m\n\u001b[0m\u001b[0;32m   4268\u001b[0m \u001b[1;33m\u001b[0m\u001b[0m\n\u001b[0;32m   4269\u001b[0m         \u001b[1;32mif\u001b[0m \u001b[0minplace\u001b[0m\u001b[1;33m:\u001b[0m\u001b[1;33m\u001b[0m\u001b[1;33m\u001b[0m\u001b[0m\n",
      "\u001b[1;32mD:\\Anaconda\\lib\\site-packages\\pandas\\core\\generic.py\u001b[0m in \u001b[0;36m_drop_axis\u001b[1;34m(self, labels, axis, level, errors, consolidate, only_slice)\u001b[0m\n\u001b[0;32m   4309\u001b[0m                 \u001b[0mnew_axis\u001b[0m \u001b[1;33m=\u001b[0m \u001b[0maxis\u001b[0m\u001b[1;33m.\u001b[0m\u001b[0mdrop\u001b[0m\u001b[1;33m(\u001b[0m\u001b[0mlabels\u001b[0m\u001b[1;33m,\u001b[0m \u001b[0mlevel\u001b[0m\u001b[1;33m=\u001b[0m\u001b[0mlevel\u001b[0m\u001b[1;33m,\u001b[0m \u001b[0merrors\u001b[0m\u001b[1;33m=\u001b[0m\u001b[0merrors\u001b[0m\u001b[1;33m)\u001b[0m\u001b[1;33m\u001b[0m\u001b[1;33m\u001b[0m\u001b[0m\n\u001b[0;32m   4310\u001b[0m             \u001b[1;32melse\u001b[0m\u001b[1;33m:\u001b[0m\u001b[1;33m\u001b[0m\u001b[1;33m\u001b[0m\u001b[0m\n\u001b[1;32m-> 4311\u001b[1;33m                 \u001b[0mnew_axis\u001b[0m \u001b[1;33m=\u001b[0m \u001b[0maxis\u001b[0m\u001b[1;33m.\u001b[0m\u001b[0mdrop\u001b[0m\u001b[1;33m(\u001b[0m\u001b[0mlabels\u001b[0m\u001b[1;33m,\u001b[0m \u001b[0merrors\u001b[0m\u001b[1;33m=\u001b[0m\u001b[0merrors\u001b[0m\u001b[1;33m)\u001b[0m\u001b[1;33m\u001b[0m\u001b[1;33m\u001b[0m\u001b[0m\n\u001b[0m\u001b[0;32m   4312\u001b[0m             \u001b[0mindexer\u001b[0m \u001b[1;33m=\u001b[0m \u001b[0maxis\u001b[0m\u001b[1;33m.\u001b[0m\u001b[0mget_indexer\u001b[0m\u001b[1;33m(\u001b[0m\u001b[0mnew_axis\u001b[0m\u001b[1;33m)\u001b[0m\u001b[1;33m\u001b[0m\u001b[1;33m\u001b[0m\u001b[0m\n\u001b[0;32m   4313\u001b[0m \u001b[1;33m\u001b[0m\u001b[0m\n",
      "\u001b[1;32mD:\\Anaconda\\lib\\site-packages\\pandas\\core\\indexes\\base.py\u001b[0m in \u001b[0;36mdrop\u001b[1;34m(self, labels, errors)\u001b[0m\n\u001b[0;32m   6659\u001b[0m         \u001b[1;32mif\u001b[0m \u001b[0mmask\u001b[0m\u001b[1;33m.\u001b[0m\u001b[0many\u001b[0m\u001b[1;33m(\u001b[0m\u001b[1;33m)\u001b[0m\u001b[1;33m:\u001b[0m\u001b[1;33m\u001b[0m\u001b[1;33m\u001b[0m\u001b[0m\n\u001b[0;32m   6660\u001b[0m             \u001b[1;32mif\u001b[0m \u001b[0merrors\u001b[0m \u001b[1;33m!=\u001b[0m \u001b[1;34m\"ignore\"\u001b[0m\u001b[1;33m:\u001b[0m\u001b[1;33m\u001b[0m\u001b[1;33m\u001b[0m\u001b[0m\n\u001b[1;32m-> 6661\u001b[1;33m                 \u001b[1;32mraise\u001b[0m \u001b[0mKeyError\u001b[0m\u001b[1;33m(\u001b[0m\u001b[1;34mf\"{list(labels[mask])} not found in axis\"\u001b[0m\u001b[1;33m)\u001b[0m\u001b[1;33m\u001b[0m\u001b[1;33m\u001b[0m\u001b[0m\n\u001b[0m\u001b[0;32m   6662\u001b[0m             \u001b[0mindexer\u001b[0m \u001b[1;33m=\u001b[0m \u001b[0mindexer\u001b[0m\u001b[1;33m[\u001b[0m\u001b[1;33m~\u001b[0m\u001b[0mmask\u001b[0m\u001b[1;33m]\u001b[0m\u001b[1;33m\u001b[0m\u001b[1;33m\u001b[0m\u001b[0m\n\u001b[0;32m   6663\u001b[0m         \u001b[1;32mreturn\u001b[0m \u001b[0mself\u001b[0m\u001b[1;33m.\u001b[0m\u001b[0mdelete\u001b[0m\u001b[1;33m(\u001b[0m\u001b[0mindexer\u001b[0m\u001b[1;33m)\u001b[0m\u001b[1;33m\u001b[0m\u001b[1;33m\u001b[0m\u001b[0m\n",
      "\u001b[1;31mKeyError\u001b[0m: \"['cost_for_meter', 'adress', 'description'] not found in axis\""
     ]
    }
   ],
   "source": [
    "import pandas as pd\n",
    "\n",
    "# Загрузка данных\n",
    "dataset = dataset\n",
    "\n",
    "# Удаление столбцов 'cost_for_meter', 'adress' и 'description'\n",
    "dataset.drop(['cost_for_meter', 'adress', 'description'], axis=1, inplace=True)\n",
    "\n",
    "# Вывод обновленного датасета\n",
    "\n"
   ]
  },
  {
   "cell_type": "code",
   "execution_count": 198,
   "id": "9eb4e2ea",
   "metadata": {},
   "outputs": [
    {
     "name": "stdout",
     "output_type": "stream",
     "text": [
      "1        None\n",
      "2        None\n",
      "4        None\n",
      "5        None\n",
      "6        None\n",
      "         ... \n",
      "55815    None\n",
      "55818    None\n",
      "55820    None\n",
      "55827    None\n",
      "55833    None\n",
      "Name: distance, Length: 16951, dtype: object\n"
     ]
    }
   ],
   "source": [
    "print(dataset['distance'])"
   ]
  },
  {
   "cell_type": "code",
   "execution_count": null,
   "id": "b32aad70",
   "metadata": {},
   "outputs": [],
   "source": []
  }
 ],
 "metadata": {
  "kernelspec": {
   "display_name": "Python 3 (ipykernel)",
   "language": "python",
   "name": "python3"
  },
  "language_info": {
   "codemirror_mode": {
    "name": "ipython",
    "version": 3
   },
   "file_extension": ".py",
   "mimetype": "text/x-python",
   "name": "python",
   "nbconvert_exporter": "python",
   "pygments_lexer": "ipython3",
   "version": "3.9.13"
  }
 },
 "nbformat": 4,
 "nbformat_minor": 5
}
