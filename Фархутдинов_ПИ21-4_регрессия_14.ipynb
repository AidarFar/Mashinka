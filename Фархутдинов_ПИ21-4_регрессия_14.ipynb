{
 "cells": [
  {
   "cell_type": "markdown",
   "id": "d51b80e9",
   "metadata": {},
   "source": [
    "# Контрольная работа"
   ]
  },
  {
   "cell_type": "markdown",
   "id": "b81b5531",
   "metadata": {},
   "source": [
    "1. Познакомьтесь с возможностями библиотеки sklearn по загрузке датасетов из репозитория openml.org"
   ]
  },
  {
   "cell_type": "code",
   "execution_count": 175,
   "id": "fdeef5a1",
   "metadata": {},
   "outputs": [
    {
     "name": "stderr",
     "output_type": "stream",
     "text": [
      "D:\\Anaconda\\lib\\site-packages\\sklearn\\datasets\\_openml.py:417: UserWarning: Multiple active versions of the dataset matching the name vineyard exist. Versions may be fundamentally different, returning version 1.\n",
      "  warn(\n"
     ]
    }
   ],
   "source": [
    "from sklearn.datasets import fetch_openml\n",
    "vine = fetch_openml(name='vineyard')"
   ]
  },
  {
   "cell_type": "markdown",
   "id": "fb38c038",
   "metadata": {},
   "source": [
    "2. Загрузите нужный вам датасет, выведите его основные характеристики: количество строк и столбцов, типы данных, количество значений в каждом столбце, основную статистическую информацию об атрибутах.\n"
   ]
  },
  {
   "cell_type": "code",
   "execution_count": 176,
   "id": "474406a8",
   "metadata": {},
   "outputs": [],
   "source": [
    "vdata = vine.data"
   ]
  },
  {
   "cell_type": "code",
   "execution_count": 177,
   "id": "49e6ffc0",
   "metadata": {},
   "outputs": [
    {
     "data": {
      "text/html": [
       "<div>\n",
       "<style scoped>\n",
       "    .dataframe tbody tr th:only-of-type {\n",
       "        vertical-align: middle;\n",
       "    }\n",
       "\n",
       "    .dataframe tbody tr th {\n",
       "        vertical-align: top;\n",
       "    }\n",
       "\n",
       "    .dataframe thead th {\n",
       "        text-align: right;\n",
       "    }\n",
       "</style>\n",
       "<table border=\"1\" class=\"dataframe\">\n",
       "  <thead>\n",
       "    <tr style=\"text-align: right;\">\n",
       "      <th></th>\n",
       "      <th>lugs_1989</th>\n",
       "      <th>lugs_1990</th>\n",
       "    </tr>\n",
       "  </thead>\n",
       "  <tbody>\n",
       "    <tr>\n",
       "      <th>0</th>\n",
       "      <td>1.0</td>\n",
       "      <td>5.0</td>\n",
       "    </tr>\n",
       "    <tr>\n",
       "      <th>1</th>\n",
       "      <td>3.0</td>\n",
       "      <td>8.0</td>\n",
       "    </tr>\n",
       "    <tr>\n",
       "      <th>2</th>\n",
       "      <td>3.0</td>\n",
       "      <td>11.0</td>\n",
       "    </tr>\n",
       "    <tr>\n",
       "      <th>3</th>\n",
       "      <td>3.0</td>\n",
       "      <td>9.0</td>\n",
       "    </tr>\n",
       "    <tr>\n",
       "      <th>4</th>\n",
       "      <td>5.0</td>\n",
       "      <td>9.5</td>\n",
       "    </tr>\n",
       "    <tr>\n",
       "      <th>5</th>\n",
       "      <td>3.5</td>\n",
       "      <td>10.0</td>\n",
       "    </tr>\n",
       "    <tr>\n",
       "      <th>6</th>\n",
       "      <td>3.0</td>\n",
       "      <td>12.0</td>\n",
       "    </tr>\n",
       "    <tr>\n",
       "      <th>7</th>\n",
       "      <td>4.5</td>\n",
       "      <td>10.0</td>\n",
       "    </tr>\n",
       "    <tr>\n",
       "      <th>8</th>\n",
       "      <td>5.0</td>\n",
       "      <td>11.5</td>\n",
       "    </tr>\n",
       "    <tr>\n",
       "      <th>9</th>\n",
       "      <td>5.0</td>\n",
       "      <td>10.0</td>\n",
       "    </tr>\n",
       "    <tr>\n",
       "      <th>10</th>\n",
       "      <td>6.0</td>\n",
       "      <td>11.0</td>\n",
       "    </tr>\n",
       "    <tr>\n",
       "      <th>11</th>\n",
       "      <td>5.0</td>\n",
       "      <td>10.0</td>\n",
       "    </tr>\n",
       "    <tr>\n",
       "      <th>12</th>\n",
       "      <td>4.0</td>\n",
       "      <td>10.5</td>\n",
       "    </tr>\n",
       "    <tr>\n",
       "      <th>13</th>\n",
       "      <td>6.0</td>\n",
       "      <td>10.0</td>\n",
       "    </tr>\n",
       "    <tr>\n",
       "      <th>14</th>\n",
       "      <td>5.0</td>\n",
       "      <td>11.0</td>\n",
       "    </tr>\n",
       "    <tr>\n",
       "      <th>15</th>\n",
       "      <td>6.5</td>\n",
       "      <td>11.0</td>\n",
       "    </tr>\n",
       "    <tr>\n",
       "      <th>16</th>\n",
       "      <td>4.0</td>\n",
       "      <td>11.5</td>\n",
       "    </tr>\n",
       "    <tr>\n",
       "      <th>17</th>\n",
       "      <td>6.0</td>\n",
       "      <td>12.0</td>\n",
       "    </tr>\n",
       "    <tr>\n",
       "      <th>18</th>\n",
       "      <td>3.0</td>\n",
       "      <td>12.5</td>\n",
       "    </tr>\n",
       "    <tr>\n",
       "      <th>19</th>\n",
       "      <td>6.0</td>\n",
       "      <td>13.0</td>\n",
       "    </tr>\n",
       "    <tr>\n",
       "      <th>20</th>\n",
       "      <td>5.0</td>\n",
       "      <td>11.0</td>\n",
       "    </tr>\n",
       "    <tr>\n",
       "      <th>21</th>\n",
       "      <td>8.0</td>\n",
       "      <td>11.0</td>\n",
       "    </tr>\n",
       "    <tr>\n",
       "      <th>22</th>\n",
       "      <td>4.5</td>\n",
       "      <td>11.0</td>\n",
       "    </tr>\n",
       "    <tr>\n",
       "      <th>23</th>\n",
       "      <td>4.0</td>\n",
       "      <td>13.0</td>\n",
       "    </tr>\n",
       "    <tr>\n",
       "      <th>24</th>\n",
       "      <td>4.0</td>\n",
       "      <td>11.0</td>\n",
       "    </tr>\n",
       "    <tr>\n",
       "      <th>25</th>\n",
       "      <td>6.5</td>\n",
       "      <td>13.0</td>\n",
       "    </tr>\n",
       "    <tr>\n",
       "      <th>26</th>\n",
       "      <td>4.0</td>\n",
       "      <td>12.0</td>\n",
       "    </tr>\n",
       "    <tr>\n",
       "      <th>27</th>\n",
       "      <td>5.0</td>\n",
       "      <td>14.0</td>\n",
       "    </tr>\n",
       "    <tr>\n",
       "      <th>28</th>\n",
       "      <td>3.0</td>\n",
       "      <td>10.0</td>\n",
       "    </tr>\n",
       "    <tr>\n",
       "      <th>29</th>\n",
       "      <td>5.5</td>\n",
       "      <td>13.0</td>\n",
       "    </tr>\n",
       "    <tr>\n",
       "      <th>30</th>\n",
       "      <td>3.0</td>\n",
       "      <td>8.0</td>\n",
       "    </tr>\n",
       "    <tr>\n",
       "      <th>31</th>\n",
       "      <td>2.0</td>\n",
       "      <td>7.5</td>\n",
       "    </tr>\n",
       "    <tr>\n",
       "      <th>32</th>\n",
       "      <td>2.0</td>\n",
       "      <td>8.0</td>\n",
       "    </tr>\n",
       "    <tr>\n",
       "      <th>33</th>\n",
       "      <td>2.0</td>\n",
       "      <td>8.0</td>\n",
       "    </tr>\n",
       "    <tr>\n",
       "      <th>34</th>\n",
       "      <td>2.0</td>\n",
       "      <td>7.0</td>\n",
       "    </tr>\n",
       "    <tr>\n",
       "      <th>35</th>\n",
       "      <td>3.0</td>\n",
       "      <td>10.0</td>\n",
       "    </tr>\n",
       "    <tr>\n",
       "      <th>36</th>\n",
       "      <td>2.0</td>\n",
       "      <td>7.0</td>\n",
       "    </tr>\n",
       "    <tr>\n",
       "      <th>37</th>\n",
       "      <td>2.0</td>\n",
       "      <td>10.0</td>\n",
       "    </tr>\n",
       "    <tr>\n",
       "      <th>38</th>\n",
       "      <td>2.0</td>\n",
       "      <td>8.0</td>\n",
       "    </tr>\n",
       "    <tr>\n",
       "      <th>39</th>\n",
       "      <td>2.0</td>\n",
       "      <td>10.0</td>\n",
       "    </tr>\n",
       "    <tr>\n",
       "      <th>40</th>\n",
       "      <td>2.0</td>\n",
       "      <td>9.0</td>\n",
       "    </tr>\n",
       "    <tr>\n",
       "      <th>41</th>\n",
       "      <td>1.5</td>\n",
       "      <td>10.0</td>\n",
       "    </tr>\n",
       "    <tr>\n",
       "      <th>42</th>\n",
       "      <td>1.5</td>\n",
       "      <td>8.0</td>\n",
       "    </tr>\n",
       "    <tr>\n",
       "      <th>43</th>\n",
       "      <td>1.5</td>\n",
       "      <td>11.0</td>\n",
       "    </tr>\n",
       "    <tr>\n",
       "      <th>44</th>\n",
       "      <td>1.0</td>\n",
       "      <td>10.0</td>\n",
       "    </tr>\n",
       "    <tr>\n",
       "      <th>45</th>\n",
       "      <td>1.0</td>\n",
       "      <td>7.0</td>\n",
       "    </tr>\n",
       "    <tr>\n",
       "      <th>46</th>\n",
       "      <td>1.0</td>\n",
       "      <td>5.0</td>\n",
       "    </tr>\n",
       "    <tr>\n",
       "      <th>47</th>\n",
       "      <td>1.0</td>\n",
       "      <td>7.0</td>\n",
       "    </tr>\n",
       "    <tr>\n",
       "      <th>48</th>\n",
       "      <td>0.5</td>\n",
       "      <td>8.0</td>\n",
       "    </tr>\n",
       "    <tr>\n",
       "      <th>49</th>\n",
       "      <td>0.5</td>\n",
       "      <td>6.0</td>\n",
       "    </tr>\n",
       "    <tr>\n",
       "      <th>50</th>\n",
       "      <td>0.0</td>\n",
       "      <td>7.5</td>\n",
       "    </tr>\n",
       "    <tr>\n",
       "      <th>51</th>\n",
       "      <td>0.0</td>\n",
       "      <td>2.5</td>\n",
       "    </tr>\n",
       "  </tbody>\n",
       "</table>\n",
       "</div>"
      ],
      "text/plain": [
       "    lugs_1989  lugs_1990\n",
       "0         1.0        5.0\n",
       "1         3.0        8.0\n",
       "2         3.0       11.0\n",
       "3         3.0        9.0\n",
       "4         5.0        9.5\n",
       "5         3.5       10.0\n",
       "6         3.0       12.0\n",
       "7         4.5       10.0\n",
       "8         5.0       11.5\n",
       "9         5.0       10.0\n",
       "10        6.0       11.0\n",
       "11        5.0       10.0\n",
       "12        4.0       10.5\n",
       "13        6.0       10.0\n",
       "14        5.0       11.0\n",
       "15        6.5       11.0\n",
       "16        4.0       11.5\n",
       "17        6.0       12.0\n",
       "18        3.0       12.5\n",
       "19        6.0       13.0\n",
       "20        5.0       11.0\n",
       "21        8.0       11.0\n",
       "22        4.5       11.0\n",
       "23        4.0       13.0\n",
       "24        4.0       11.0\n",
       "25        6.5       13.0\n",
       "26        4.0       12.0\n",
       "27        5.0       14.0\n",
       "28        3.0       10.0\n",
       "29        5.5       13.0\n",
       "30        3.0        8.0\n",
       "31        2.0        7.5\n",
       "32        2.0        8.0\n",
       "33        2.0        8.0\n",
       "34        2.0        7.0\n",
       "35        3.0       10.0\n",
       "36        2.0        7.0\n",
       "37        2.0       10.0\n",
       "38        2.0        8.0\n",
       "39        2.0       10.0\n",
       "40        2.0        9.0\n",
       "41        1.5       10.0\n",
       "42        1.5        8.0\n",
       "43        1.5       11.0\n",
       "44        1.0       10.0\n",
       "45        1.0        7.0\n",
       "46        1.0        5.0\n",
       "47        1.0        7.0\n",
       "48        0.5        8.0\n",
       "49        0.5        6.0\n",
       "50        0.0        7.5\n",
       "51        0.0        2.5"
      ]
     },
     "execution_count": 177,
     "metadata": {},
     "output_type": "execute_result"
    }
   ],
   "source": [
    "vdata"
   ]
  },
  {
   "cell_type": "code",
   "execution_count": 178,
   "id": "60b8c4b3",
   "metadata": {},
   "outputs": [
    {
     "data": {
      "text/plain": [
       "(52, 2)"
      ]
     },
     "execution_count": 178,
     "metadata": {},
     "output_type": "execute_result"
    }
   ],
   "source": [
    "vdata.shape"
   ]
  },
  {
   "cell_type": "code",
   "execution_count": 179,
   "id": "3f0c42a0",
   "metadata": {},
   "outputs": [
    {
     "data": {
      "text/plain": [
       "lugs_1989    float64\n",
       "lugs_1990    float64\n",
       "dtype: object"
      ]
     },
     "execution_count": 179,
     "metadata": {},
     "output_type": "execute_result"
    }
   ],
   "source": [
    "vdata.dtypes"
   ]
  },
  {
   "cell_type": "code",
   "execution_count": 180,
   "id": "bcf7732f",
   "metadata": {},
   "outputs": [
    {
     "data": {
      "text/html": [
       "<div>\n",
       "<style scoped>\n",
       "    .dataframe tbody tr th:only-of-type {\n",
       "        vertical-align: middle;\n",
       "    }\n",
       "\n",
       "    .dataframe tbody tr th {\n",
       "        vertical-align: top;\n",
       "    }\n",
       "\n",
       "    .dataframe thead th {\n",
       "        text-align: right;\n",
       "    }\n",
       "</style>\n",
       "<table border=\"1\" class=\"dataframe\">\n",
       "  <thead>\n",
       "    <tr style=\"text-align: right;\">\n",
       "      <th></th>\n",
       "      <th>lugs_1989</th>\n",
       "      <th>lugs_1990</th>\n",
       "    </tr>\n",
       "  </thead>\n",
       "  <tbody>\n",
       "    <tr>\n",
       "      <th>count</th>\n",
       "      <td>52.000000</td>\n",
       "      <td>52.000000</td>\n",
       "    </tr>\n",
       "    <tr>\n",
       "      <th>mean</th>\n",
       "      <td>3.278846</td>\n",
       "      <td>9.653846</td>\n",
       "    </tr>\n",
       "    <tr>\n",
       "      <th>std</th>\n",
       "      <td>1.938803</td>\n",
       "      <td>2.337961</td>\n",
       "    </tr>\n",
       "    <tr>\n",
       "      <th>min</th>\n",
       "      <td>0.000000</td>\n",
       "      <td>2.500000</td>\n",
       "    </tr>\n",
       "    <tr>\n",
       "      <th>25%</th>\n",
       "      <td>2.000000</td>\n",
       "      <td>8.000000</td>\n",
       "    </tr>\n",
       "    <tr>\n",
       "      <th>50%</th>\n",
       "      <td>3.000000</td>\n",
       "      <td>10.000000</td>\n",
       "    </tr>\n",
       "    <tr>\n",
       "      <th>75%</th>\n",
       "      <td>5.000000</td>\n",
       "      <td>11.000000</td>\n",
       "    </tr>\n",
       "    <tr>\n",
       "      <th>max</th>\n",
       "      <td>8.000000</td>\n",
       "      <td>14.000000</td>\n",
       "    </tr>\n",
       "  </tbody>\n",
       "</table>\n",
       "</div>"
      ],
      "text/plain": [
       "       lugs_1989  lugs_1990\n",
       "count  52.000000  52.000000\n",
       "mean    3.278846   9.653846\n",
       "std     1.938803   2.337961\n",
       "min     0.000000   2.500000\n",
       "25%     2.000000   8.000000\n",
       "50%     3.000000  10.000000\n",
       "75%     5.000000  11.000000\n",
       "max     8.000000  14.000000"
      ]
     },
     "execution_count": 180,
     "metadata": {},
     "output_type": "execute_result"
    }
   ],
   "source": [
    "vdata.describe()"
   ]
  },
  {
   "cell_type": "markdown",
   "id": "da67f35e",
   "metadata": {},
   "source": [
    "3. Прочитайте и изложите в работе общее описание датасета. Опишите, решаемую моделированием проблему.\n"
   ]
  },
  {
   "cell_type": "code",
   "execution_count": 181,
   "id": "1b0935f6",
   "metadata": {},
   "outputs": [
    {
     "data": {
      "text/plain": [
       "{'id': '192',\n",
       " 'name': 'vineyard',\n",
       " 'version': '1',\n",
       " 'description_version': '1',\n",
       " 'format': 'ARFF',\n",
       " 'upload_date': '2014-04-23T13:16:12',\n",
       " 'licence': 'Public',\n",
       " 'url': 'https://api.openml.org/data/v1/download/3629/vineyard.arff',\n",
       " 'parquet_url': 'http://openml1.win.tue.nl/dataset192/dataset_192.pq',\n",
       " 'file_id': '3629',\n",
       " 'default_target_attribute': 'lugs_1991',\n",
       " 'row_id_attribute': 'row_number',\n",
       " 'version_label': '1',\n",
       " 'visibility': 'public',\n",
       " 'minio_url': 'http://openml1.win.tue.nl/dataset192/dataset_192.pq',\n",
       " 'status': 'active',\n",
       " 'processing_date': '2020-11-20 19:08:13',\n",
       " 'md5_checksum': 'b261b616bccee824fb531e85007f2f90'}"
      ]
     },
     "execution_count": 181,
     "metadata": {},
     "output_type": "execute_result"
    }
   ],
   "source": [
    "vine.details"
   ]
  },
  {
   "cell_type": "markdown",
   "id": "1fee71f7",
   "metadata": {},
   "source": [
    "Нужно предсказать значения следующего 1991 года для lugs(наконечников???)"
   ]
  },
  {
   "cell_type": "markdown",
   "id": "19668b0f",
   "metadata": {},
   "source": [
    "4. Удалите, если нужно, нечисловые колонки в датасете."
   ]
  },
  {
   "cell_type": "markdown",
   "id": "72060542",
   "metadata": {},
   "source": [
    "Нечисловых колонок в датасете нет"
   ]
  },
  {
   "cell_type": "markdown",
   "id": "06fcb912",
   "metadata": {},
   "source": [
    "5. При необходимости заполните нулем пропущенные значения."
   ]
  },
  {
   "cell_type": "code",
   "execution_count": 182,
   "id": "83bccdd0",
   "metadata": {},
   "outputs": [
    {
     "data": {
      "text/plain": [
       "lugs_1989    0\n",
       "lugs_1990    0\n",
       "dtype: int64"
      ]
     },
     "execution_count": 182,
     "metadata": {},
     "output_type": "execute_result"
    }
   ],
   "source": [
    "vdata.isnull().sum()"
   ]
  },
  {
   "cell_type": "markdown",
   "id": "ae2c0d3a",
   "metadata": {},
   "source": [
    "Нулевых значений нет"
   ]
  },
  {
   "cell_type": "markdown",
   "id": "1bcbb624",
   "metadata": {},
   "source": [
    "6. Постройте гистограммы распределения по каждому признаку.\n"
   ]
  },
  {
   "cell_type": "code",
   "execution_count": 183,
   "id": "a75cb52e",
   "metadata": {},
   "outputs": [
    {
     "data": {
      "image/png": "[encoded data removed]",
      "text/plain": [
       "<Figure size 640x480 with 1 Axes>"
      ]
     },
     "metadata": {},
     "output_type": "display_data"
    },
    {
     "data": {
      "image/png": "[encoded data removed]",
      "text/plain": [
       "<Figure size 640x480 with 1 Axes>"
      ]
     },
     "metadata": {},
     "output_type": "display_data"
    }
   ],
   "source": [
    "import pandas as pd\n",
    "import numpy as np\n",
    "import matplotlib\n",
    "import matplotlib.pyplot as plt\n",
    "\n",
    "plt.hist(vdata['lugs_1989'])\n",
    "plt.xlabel('lugs_1989')\n",
    "plt.ylabel('Частота появления')\n",
    "plt.show()\n",
    "plt.hist(vdata['lugs_1990'])\n",
    "plt.xlabel('lugs_1990')\n",
    "plt.ylabel('Частота появления')\n",
    "plt.show()"
   ]
  },
  {
   "cell_type": "markdown",
   "id": "0005305f",
   "metadata": {},
   "source": [
    "7. Постройте модель машинного обучения, обучите ее на всем датасете.\n"
   ]
  },
  {
   "cell_type": "code",
   "execution_count": 184,
   "id": "de3ffbee",
   "metadata": {},
   "outputs": [],
   "source": [
    "x = vdata\n",
    "y = vine.target"
   ]
  },
  {
   "cell_type": "code",
   "execution_count": 185,
   "id": "ac21761d",
   "metadata": {},
   "outputs": [
    {
     "data": {
      "text/plain": [
       "LinearRegression()"
      ]
     },
     "execution_count": 185,
     "metadata": {},
     "output_type": "execute_result"
    }
   ],
   "source": [
    "from sklearn.linear_model import LinearRegression\n",
    "multiple = LinearRegression()\n",
    "multiple.fit(x, y)"
   ]
  },
  {
   "cell_type": "code",
   "execution_count": 186,
   "id": "a664098e",
   "metadata": {},
   "outputs": [],
   "source": [
    "yy = multiple.predict(x)"
   ]
  },
  {
   "cell_type": "markdown",
   "id": "eeca0d15",
   "metadata": {},
   "source": [
    "8. Измерьте эффективность данной модели и сделайте вывод о ее применимости на практике.\n"
   ]
  },
  {
   "cell_type": "code",
   "execution_count": 187,
   "id": "b0c39d7e",
   "metadata": {},
   "outputs": [
    {
     "data": {
      "text/plain": [
       "(array([1.11940719, 0.65948872]), 8.049571812352088)"
      ]
     },
     "execution_count": 187,
     "metadata": {},
     "output_type": "execute_result"
    }
   ],
   "source": [
    "multiple.coef_ , multiple.intercept_"
   ]
  },
  {
   "cell_type": "code",
   "execution_count": 188,
   "id": "e4a7d810",
   "metadata": {},
   "outputs": [
    {
     "data": {
      "text/plain": [
       "0.6174128699825736"
      ]
     },
     "execution_count": 188,
     "metadata": {},
     "output_type": "execute_result"
    }
   ],
   "source": [
    "from sklearn.metrics import r2_score\n",
    "r2_score(y, yy)"
   ]
  },
  {
   "cell_type": "markdown",
   "id": "8a44bef0",
   "metadata": {},
   "source": [
    "Модель слишком плоха для применения ее на практике"
   ]
  },
  {
   "cell_type": "markdown",
   "id": "918937e1",
   "metadata": {},
   "source": [
    "9. Визуализируйте результаты моделирования, сравните реальные и предсказанные значения.\n"
   ]
  },
  {
   "cell_type": "code",
   "execution_count": 189,
   "id": "4f34b45b",
   "metadata": {},
   "outputs": [
    {
     "data": {
      "text/plain": [
       "[<matplotlib.lines.Line2D at 0x24cff0e26a0>]"
      ]
     },
     "execution_count": 189,
     "metadata": {},
     "output_type": "execute_result"
    },
    {
     "data": {
      "image/png": "[encoded data removed]",
      "text/plain": [
       "<Figure size 640x480 with 1 Axes>"
      ]
     },
     "metadata": {},
     "output_type": "display_data"
    }
   ],
   "source": [
    "plt.scatter(yy, y)\n",
    "plt.plot(yy, yy, c='r')"
   ]
  },
  {
   "cell_type": "markdown",
   "id": "bbb66fa4",
   "metadata": {},
   "source": [
    "10. Используйте несколько простых моделей машинного обучения. Сравните их эффективность между собой."
   ]
  },
  {
   "cell_type": "code",
   "execution_count": 190,
   "id": "c403168b",
   "metadata": {},
   "outputs": [
    {
     "data": {
      "text/plain": [
       "[<matplotlib.lines.Line2D at 0x24cff150220>]"
      ]
     },
     "execution_count": 190,
     "metadata": {},
     "output_type": "execute_result"
    },
    {
     "data": {
      "image/png": "[encoded data removed]",
      "text/plain": [
       "<Figure size 640x480 with 1 Axes>"
      ]
     },
     "metadata": {},
     "output_type": "display_data"
    }
   ],
   "source": [
    "from sklearn.preprocessing import PolynomialFeatures\n",
    "poly = PolynomialFeatures(5).fit_transform(x)\n",
    "polynomial = LinearRegression()\n",
    "polynomial.fit(poly, y)\n",
    "y_pred_poly = polynomial.predict(poly)\n",
    "plt.scatter(y_pred_poly, y)\n",
    "plt.plot(y, y, c='r')"
   ]
  },
  {
   "cell_type": "code",
   "execution_count": 191,
   "id": "98ec0dfe",
   "metadata": {},
   "outputs": [
    {
     "data": {
      "text/plain": [
       "0.8407960560171378"
      ]
     },
     "execution_count": 191,
     "metadata": {},
     "output_type": "execute_result"
    }
   ],
   "source": [
    "polynomial.score(poly, y)"
   ]
  },
  {
   "cell_type": "markdown",
   "id": "69712e27",
   "metadata": {},
   "source": [
    "Введение полиномиальных признаков значительно улучшило нашу модель"
   ]
  },
  {
   "cell_type": "code",
   "execution_count": 192,
   "id": "9bc49ad8",
   "metadata": {},
   "outputs": [],
   "source": [
    "x = vdata\n",
    "y = vine.target"
   ]
  },
  {
   "cell_type": "code",
   "execution_count": 193,
   "id": "61fe9829",
   "metadata": {},
   "outputs": [],
   "source": [
    "from sklearn import svm\n",
    "regr = svm.SVR()\n",
    "regr.fit(x, y)\n",
    "yy = regr.predict(x)"
   ]
  },
  {
   "cell_type": "code",
   "execution_count": 194,
   "id": "906a991f",
   "metadata": {},
   "outputs": [
    {
     "data": {
      "text/plain": [
       "[<matplotlib.lines.Line2D at 0x24cff1e4d30>]"
      ]
     },
     "execution_count": 194,
     "metadata": {},
     "output_type": "execute_result"
    },
    {
     "data": {
      "image/png": "[encoded data removed]",
      "text/plain": [
       "<Figure size 640x480 with 1 Axes>"
      ]
     },
     "metadata": {},
     "output_type": "display_data"
    }
   ],
   "source": [
    "plt.scatter(yy, y)\n",
    "plt.plot(y, y, c='r')"
   ]
  },
  {
   "cell_type": "code",
   "execution_count": 195,
   "id": "d693116e",
   "metadata": {},
   "outputs": [
    {
     "data": {
      "text/plain": [
       "0.5581139966457443"
      ]
     },
     "execution_count": 195,
     "metadata": {},
     "output_type": "execute_result"
    }
   ],
   "source": [
    "regr.score(x,y)"
   ]
  },
  {
   "cell_type": "markdown",
   "id": "5dccc705",
   "metadata": {},
   "source": [
    "Модель опорных векторов хуже линейной регресии"
   ]
  },
  {
   "cell_type": "code",
   "execution_count": null,
   "id": "af669613",
   "metadata": {},
   "outputs": [],
   "source": []
  }
 ],
 "metadata": {
  "kernelspec": {
   "display_name": "Python 3 (ipykernel)",
   "language": "python",
   "name": "python3"
  },
  "language_info": {
   "codemirror_mode": {
    "name": "ipython",
    "version": 3
   },
   "file_extension": ".py",
   "mimetype": "text/x-python",
   "name": "python",
   "nbconvert_exporter": "python",
   "pygments_lexer": "ipython3",
   "version": "3.9.13"
  }
 },
 "nbformat": 4,
 "nbformat_minor": 5
}
